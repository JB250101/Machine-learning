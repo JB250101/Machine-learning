{
 "cells": [
  {
   "cell_type": "markdown",
   "metadata": {},
   "source": [
    "Create a function which takes as an input two numbers and returns the remainder when dividing first number by second number."
   ]
  },
  {
   "cell_type": "code",
   "execution_count": 6,
   "metadata": {},
   "outputs": [],
   "source": [
    "x=input(\"enter 1st number\")\n",
    "y=input(\"enter 2nd number\")"
   ]
  },
  {
   "cell_type": "code",
   "execution_count": 7,
   "metadata": {},
   "outputs": [
    {
     "ename": "TypeError",
     "evalue": "not all arguments converted during string formatting",
     "output_type": "error",
     "traceback": [
      "\u001b[1;31m---------------------------------------------------------------------------\u001b[0m",
      "\u001b[1;31mTypeError\u001b[0m                                 Traceback (most recent call last)",
      "Cell \u001b[1;32mIn[7], line 4\u001b[0m\n\u001b[0;32m      1\u001b[0m \u001b[38;5;28;01mdef\u001b[39;00m \u001b[38;5;21mremainder\u001b[39m(x,y):\n\u001b[0;32m      2\u001b[0m  \u001b[38;5;28;01mreturn\u001b[39;00m x \u001b[38;5;241m%\u001b[39m y\n\u001b[1;32m----> 4\u001b[0m \u001b[43mremainder\u001b[49m\u001b[43m(\u001b[49m\u001b[43mx\u001b[49m\u001b[43m,\u001b[49m\u001b[43my\u001b[49m\u001b[43m)\u001b[49m\n",
      "Cell \u001b[1;32mIn[7], line 2\u001b[0m, in \u001b[0;36mremainder\u001b[1;34m(x, y)\u001b[0m\n\u001b[0;32m      1\u001b[0m \u001b[38;5;28;01mdef\u001b[39;00m \u001b[38;5;21mremainder\u001b[39m(x,y):\n\u001b[1;32m----> 2\u001b[0m  \u001b[38;5;28;01mreturn\u001b[39;00m \u001b[43mx\u001b[49m\u001b[43m \u001b[49m\u001b[38;5;241;43m%\u001b[39;49m\u001b[43m \u001b[49m\u001b[43my\u001b[49m\n",
      "\u001b[1;31mTypeError\u001b[0m: not all arguments converted during string formatting"
     ]
    }
   ],
   "source": [
    "def remainder(x,y):\n",
    " return x % y\n",
    "\n",
    "remainder(x,y)"
   ]
  },
  {
   "cell_type": "code",
   "execution_count": 1,
   "metadata": {},
   "outputs": [
    {
     "name": "stdout",
     "output_type": "stream",
     "text": [
      "[['j', '2'], ['d', '3'], ['d', '3']]\n"
     ]
    }
   ],
   "source": [
    "user_info = []  # Initialize an empty list\n",
    "\n",
    "# Get the number of entries the user wants to add\n",
    "num_entries = int(input(\"How many users do you want to add? \"))\n",
    "\n",
    "for _ in range(num_entries):\n",
    "    name = input(\"Enter your name: \")\n",
    "    age = input(\"Enter your age: \")\n",
    "    user_info.append([name, age])  # Append each name and age as a list to the main list\n",
    "\n",
    "# Print the final list\n",
    "print(user_info)\n"
   ]
  },
  {
   "cell_type": "code",
   "execution_count": 4,
   "metadata": {},
   "outputs": [
    {
     "name": "stdout",
     "output_type": "stream",
     "text": [
      "Users added:\n",
      "Name: f, Age: 3\n",
      "Name: f, Age: 3\n"
     ]
    }
   ],
   "source": [
    "user_info = []  # Initialize an empty list\n",
    "\n",
    "while True:\n",
    "    name = input(\"Enter your name (or type 'stop' to finish): \")\n",
    "    age = input(\"Enter your age: \")\n",
    "    if name.lower() == 'stop'or age.lower() == 'stop':  # If the user types 'stop', exit the loop\n",
    "        break\n",
    "    \n",
    "    user_info.append([name, age])  # Append each name and age as a list to the main list\n",
    "\n",
    "# Print the final list of users\n",
    "print(\"Users added:\")\n",
    "for user in user_info:\n",
    "    print(f\"Name: {user[0]}, Age: {user[1]}\")\n"
   ]
  },
  {
   "cell_type": "code",
   "execution_count": null,
   "metadata": {},
   "outputs": [],
   "source": []
  }
 ],
 "metadata": {
  "kernelspec": {
   "display_name": "Python 3",
   "language": "python",
   "name": "python3"
  },
  "language_info": {
   "codemirror_mode": {
    "name": "ipython",
    "version": 3
   },
   "file_extension": ".py",
   "mimetype": "text/x-python",
   "name": "python",
   "nbconvert_exporter": "python",
   "pygments_lexer": "ipython3",
   "version": "3.11.9"
  }
 },
 "nbformat": 4,
 "nbformat_minor": 2
}
