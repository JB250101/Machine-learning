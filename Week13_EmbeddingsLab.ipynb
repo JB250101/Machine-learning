{
 "cells": [
  {
   "cell_type": "markdown",
   "metadata": {},
   "source": [
    "### Week 13 Word Embeddings Tutorial\n",
    "Tutorial for extracting word embeddings from words.<br>"
   ]
  },
  {
   "cell_type": "markdown",
   "metadata": {},
   "source": [
    "### Word2Vec embeddings using the Gensim library.<br> \n",
    "    Word2Vec is a popular technique for learning word embeddings, which are dense vector representations of words that capture semantic relationships between words based on their context.<br>\n",
    "    As discussed, Word2Vec have 2 types, Skipgrams and CBOW. Where SkipGrams are trained to predict context words given the target word, however CBOW is trained to predict target words given its context.\n"
   ]
  },
  {
   "cell_type": "markdown",
   "metadata": {},
   "source": [
    "- Requirements: downloading punkt from nltk, and installing gensim library"
   ]
  },
  {
   "cell_type": "code",
   "execution_count": null,
   "metadata": {},
   "outputs": [],
   "source": [
    "## The quick brown fox jumps over the lazy dog.\n",
    "## Target Word: Jumps\n",
    "## Context Words: Words in a context window size n --> n=2 [brown, fox, over, the]\n",
    "## SkipGram: \n",
    "#   jumps (input) --> 4 outputs [brown, fox, over, the]\n",
    "## CBOW: \n",
    "# [brown, fox, over, the] (inputs) --> 1 output (jumps)"
   ]
  },
  {
   "cell_type": "code",
   "execution_count": null,
   "metadata": {},
   "outputs": [],
   "source": [
    "# importing needed libraries\n",
    "import nltk\n",
    "# nltk.download('punkt')\n",
    "from nltk.tokenize import word_tokenize\n",
    "from gensim.models import Word2Vec"
   ]
  },
  {
   "cell_type": "code",
   "execution_count": null,
   "metadata": {},
   "outputs": [
    {
     "name": "stdout",
     "output_type": "stream",
     "text": [
      "['natural', 'language', 'processing', '(', 'nlp', ')', 'is', 'a', 'subfield', 'of', 'artificial', 'intelligence', '(', 'ai', ')', 'that', 'focuses', 'on', 'the', 'interaction', 'between', 'computers', 'and', 'humans', 'through', 'natural', 'language', '.', 'nlp', 'techniques', 'aim', 'to', 'enable', 'computers', 'to', 'understand', ',', 'interpret', ',', 'and', 'generate', 'human', 'language', 'in', 'a', 'way', 'that', 'is', 'both', 'meaningful', 'and', 'contextually', 'relevant', '.']\n"
     ]
    }
   ],
   "source": [
    "# Sample Sentence\n",
    "text = \"\"\"\n",
    "Natural language processing (NLP) is a subfield of artificial intelligence (AI) that focuses on the interaction between computers and humans through natural language. NLP techniques aim to enable computers to understand, interpret, and generate human language in a way that is both meaningful and contextually relevant.\n",
    "\"\"\"\n",
    "tokenized_words = word_tokenize(text.lower())\n",
    "print(tokenized_words)"
   ]
  },
  {
   "cell_type": "code",
   "execution_count": null,
   "metadata": {},
   "outputs": [],
   "source": [
    "# Create a model\n",
    "model_word2Vec = Word2Vec(sentences=[tokenized_words], vector_size=50, window=5,  min_count=1, workers=4)\n"
   ]
  },
  {
   "cell_type": "code",
   "execution_count": null,
   "metadata": {},
   "outputs": [
    {
     "name": "stdout",
     "output_type": "stream",
     "text": [
      "Word Vector for language is [-1.04924932e-03  4.22840036e-04  1.01921493e-02  1.80208944e-02\n",
      " -1.85975824e-02 -1.42208599e-02  1.29707102e-02  1.79747008e-02\n",
      " -1.00614503e-02 -7.51019455e-03  1.47279548e-02 -3.08123045e-03\n",
      " -9.06075630e-03  1.31399417e-02 -9.73974820e-03 -3.60585051e-03\n",
      "  5.78764221e-03  2.02601845e-03 -1.65603217e-02 -1.89395323e-02\n",
      "  1.46390153e-02  1.01228226e-02  1.35796499e-02  1.54736219e-03\n",
      "  1.27078006e-02 -6.81248819e-03 -1.89916836e-03  1.15286848e-02\n",
      " -1.50743807e-02 -7.89453555e-03 -1.50234010e-02 -1.84506015e-03\n",
      "  1.90822110e-02 -1.46591011e-02 -4.66508837e-03 -3.87337268e-03\n",
      "  1.61433201e-02 -1.19048795e-02  7.79837355e-05 -9.55065712e-03\n",
      " -1.91739332e-02  9.98215098e-03 -1.75059494e-02 -8.77499487e-03\n",
      " -2.21634273e-05 -5.67505893e-04 -1.53313102e-02  1.92039497e-02\n",
      "  9.98303201e-03  1.84752923e-02]\n"
     ]
    }
   ],
   "source": [
    "# Get word vector for a specific word\n",
    "## Example: language\n",
    "word = 'language'\n",
    "wv_vector = model_word2Vec.wv[word]\n",
    "print(f\"Word Vector for {word} is {wv_vector}\")"
   ]
  },
  {
   "cell_type": "code",
   "execution_count": null,
   "metadata": {},
   "outputs": [
    {
     "name": "stdout",
     "output_type": "stream",
     "text": [
      "Most similar words are [('way', 0.27101483941078186), ('between', 0.2417445182800293), ('ai', 0.21129381656646729), ('of', 0.18660590052604675), ('natural', 0.1674286276102066), ('subfield', 0.16039668023586273), ('enable', 0.15051932632923126), ('on', 0.1452927589416504), ('is', 0.13285453617572784), ('computers', 0.12684977054595947)]\n"
     ]
    }
   ],
   "source": [
    "# Find similar words\n",
    "similar_words = model_word2Vec.wv.most_similar(word)\n",
    "print(f'Most similar words are {similar_words}')"
   ]
  },
  {
   "cell_type": "markdown",
   "metadata": {},
   "source": [
    "SKIPGRAM"
   ]
  },
  {
   "cell_type": "code",
   "execution_count": null,
   "metadata": {},
   "outputs": [
    {
     "name": "stdout",
     "output_type": "stream",
     "text": [
      "Word Vector skipgram is [-9.03553970e-04  6.09972230e-05  1.00390101e-02  1.80581324e-02\n",
      " -1.85802374e-02 -1.42736342e-02  1.31737618e-02  1.81576647e-02\n",
      " -1.02728289e-02 -7.52615416e-03  1.45699615e-02 -3.23969754e-03\n",
      " -8.90274160e-03  1.33267427e-02 -9.75288637e-03 -3.34877032e-03\n",
      "  5.90627361e-03  2.19281320e-03 -1.65371932e-02 -1.91209484e-02\n",
      "  1.47795556e-02  1.00894021e-02  1.37643609e-02  1.57578371e-03\n",
      "  1.28754247e-02 -6.85847225e-03 -1.91866246e-03  1.16009628e-02\n",
      " -1.51612358e-02 -8.00818577e-03 -1.49769830e-02 -1.86830643e-03\n",
      "  1.90617591e-02 -1.46751460e-02 -4.67565376e-03 -3.88333946e-03\n",
      "  1.62615869e-02 -1.20394714e-02  4.63891411e-05 -9.83959157e-03\n",
      " -1.90989133e-02  9.84797068e-03 -1.74361710e-02 -8.68283305e-03\n",
      "  1.56206806e-04 -4.42421937e-04 -1.53591009e-02  1.90436654e-02\n",
      "  1.01097953e-02  1.86039284e-02]\n",
      "Most similar words are [('way', 0.27579179406166077), ('between', 0.24940559267997742), ('ai', 0.21399669349193573), ('of', 0.18884523212909698), ('natural', 0.16923265159130096), ('subfield', 0.15933887660503387), ('enable', 0.15793290734291077), ('on', 0.14782708883285522), ('is', 0.13808724284172058), ('computers', 0.128434956073761)]\n"
     ]
    }
   ],
   "source": [
    "# Create a model\n",
    "model_word2Vec_sg = Word2Vec(sentences=[tokenized_words], vector_size=50, window=5,  min_count=1, workers=4, sg=1)\n",
    "\n",
    "# Get word vector for a specific word\n",
    "wv_skipgram = model_word2Vec_sg.wv[word] \n",
    "print(f'Word Vector skipgram is {wv_skipgram}')\n",
    "# Find similar words\n",
    "similar_words_sg = model_word2Vec_sg.wv.most_similar(word)\n",
    "print(f'Most similar words are {similar_words_sg}')"
   ]
  },
  {
   "cell_type": "code",
   "execution_count": null,
   "metadata": {},
   "outputs": [
    {
     "data": {
      "text/plain": [
       "array([-9.03553970e-04,  6.09972230e-05,  1.00390101e-02,  1.80581324e-02,\n",
       "       -1.85802374e-02, -1.42736342e-02,  1.31737618e-02,  1.81576647e-02,\n",
       "       -1.02728289e-02, -7.52615416e-03,  1.45699615e-02, -3.23969754e-03,\n",
       "       -8.90274160e-03,  1.33267427e-02, -9.75288637e-03, -3.34877032e-03,\n",
       "        5.90627361e-03,  2.19281320e-03, -1.65371932e-02, -1.91209484e-02,\n",
       "        1.47795556e-02,  1.00894021e-02,  1.37643609e-02,  1.57578371e-03,\n",
       "        1.28754247e-02, -6.85847225e-03, -1.91866246e-03,  1.16009628e-02,\n",
       "       -1.51612358e-02, -8.00818577e-03, -1.49769830e-02, -1.86830643e-03,\n",
       "        1.90617591e-02, -1.46751460e-02, -4.67565376e-03, -3.88333946e-03,\n",
       "        1.62615869e-02, -1.20394714e-02,  4.63891411e-05, -9.83959157e-03,\n",
       "       -1.90989133e-02,  9.84797068e-03, -1.74361710e-02, -8.68283305e-03,\n",
       "        1.56206806e-04, -4.42421937e-04, -1.53591009e-02,  1.90436654e-02,\n",
       "        1.01097953e-02,  1.86039284e-02], dtype=float32)"
      ]
     },
     "metadata": {},
     "output_type": "display_data"
    }
   ],
   "source": [
    "# How to save/load skipgram and CBOW models?\n",
    "model_word2Vec_sg.save('skipgram_word2vec.bin')\n",
    "## Loading\n",
    "loaded_sg = Word2Vec.load('skipgram_word2vec.bin')\n",
    "loaded_sg.wv[word]"
   ]
  },
  {
   "cell_type": "markdown",
   "metadata": {},
   "source": [
    "How to use word2Vec for SkipGrams and CBOW? Explore whether they will give different results for similar words"
   ]
  },
  {
   "cell_type": "markdown",
   "metadata": {},
   "source": [
    "### Clustering Words based on Cooccurence Pattern --> Brown Clustering"
   ]
  },
  {
   "cell_type": "code",
   "execution_count": null,
   "metadata": {},
   "outputs": [],
   "source": [
    "from nltk.corpus import brown\n",
    "import numpy as np\n",
    "# download brown corpus if not downloaded before\n",
    "# nltk.download('brown')"
   ]
  },
  {
   "cell_type": "code",
   "execution_count": null,
   "metadata": {},
   "outputs": [],
   "source": [
    "# retrieve sentences from brown corpus\n",
    "corpus = brown.sents()[:1]\n",
    "# transform all sentences to lower case\n",
    "corpus = [[word.lower() for word in sent] for sent in corpus]\n",
    "\n",
    "# Create a set of unique words in the corpus --> Vocab\n",
    "vocab = set(word for sent in corpus for word in sent)"
   ]
  },
  {
   "cell_type": "code",
   "execution_count": null,
   "metadata": {},
   "outputs": [
    {
     "data": {
      "text/plain": [
       "[['the',\n",
       "  'fulton',\n",
       "  'county',\n",
       "  'grand',\n",
       "  'jury',\n",
       "  'said',\n",
       "  'friday',\n",
       "  'an',\n",
       "  'investigation',\n",
       "  'of',\n",
       "  \"atlanta's\",\n",
       "  'recent',\n",
       "  'primary',\n",
       "  'election',\n",
       "  'produced',\n",
       "  '``',\n",
       "  'no',\n",
       "  'evidence',\n",
       "  \"''\",\n",
       "  'that',\n",
       "  'any',\n",
       "  'irregularities',\n",
       "  'took',\n",
       "  'place',\n",
       "  '.']]"
      ]
     },
     "metadata": {},
     "output_type": "display_data"
    }
   ],
   "source": [
    "corpus"
   ]
  },
  {
   "cell_type": "code",
   "execution_count": null,
   "metadata": {},
   "outputs": [
    {
     "data": {
      "text/plain": [
       "({\"''\",\n",
       "  '.',\n",
       "  '``',\n",
       "  'an',\n",
       "  'any',\n",
       "  \"atlanta's\",\n",
       "  'county',\n",
       "  'election',\n",
       "  'evidence',\n",
       "  'friday',\n",
       "  'fulton',\n",
       "  'grand',\n",
       "  'investigation',\n",
       "  'irregularities',\n",
       "  'jury',\n",
       "  'no',\n",
       "  'of',\n",
       "  'place',\n",
       "  'primary',\n",
       "  'produced',\n",
       "  'recent',\n",
       "  'said',\n",
       "  'that',\n",
       "  'the',\n",
       "  'took'},\n",
       " 1.0,\n",
       " 1.0)"
      ]
     },
     "metadata": {},
     "output_type": "display_data"
    }
   ],
   "source": [
    "# to find co-occurence pattern, co-occurence matrix is needed to show the word count and which words does it co-occur with\n",
    "window = 2\n",
    "co_occurrence_matrix = np.zeros((len(vocab), len(vocab)))\n",
    "vocab_list = list(vocab)\n",
    "for sentence in corpus:\n",
    "    for i,word in enumerate(sentence):\n",
    "        word_i_index = vocab_list.index(word)\n",
    "        for j in range(max(0, i-window), min(len(sentence),i+window+1)):\n",
    "            if i!=j:\n",
    "               word_j_index = vocab_list.index(sentence[j]) \n",
    "               co_occurrence_matrix[word_i_index, word_j_index]+=1\n",
    "vocab, co_occurrence_matrix[10,24], co_occurrence_matrix[24,10]"
   ]
  },
  {
   "cell_type": "code",
   "execution_count": null,
   "metadata": {},
   "outputs": [
    {
     "data": {
      "text/plain": [
       "array([ 0,  1,  0,  0,  0,  0,  0,  0,  0,  0,  0,  0,  0,  0,  0,  0, 16,\n",
       "        0,  0,  0,  0,  0,  0,  0,  0])"
      ]
     },
     "metadata": {},
     "output_type": "display_data"
    }
   ],
   "source": [
    "# Performing brown clustering, you need to set the number of clusters\n",
    "num_clusters = 3\n",
    "# assign each word as cluster\n",
    "cluster_assignment = np.arange(len(vocab))\n",
    "\n",
    "# Perform Brown clustering by recursively merging clusters\n",
    "for k in range(len(vocab)-num_clusters):\n",
    "    # Find the pair of clusters with the highest co-occurrence count\n",
    "    \n",
    "    i,j =np.unravel_index(co_occurrence_matrix.argmax(),co_occurrence_matrix.shape)\n",
    "    \n",
    "    # Merge the clusters by assigning the same cluster ID to both clusters\n",
    "    cluster_assignment[cluster_assignment==j]=i\n",
    "    \n",
    "    # Update the co-occurrence matrix by merging the counts of the two clusters\n",
    "\n",
    "    ## Summing up the row of i and j together into j\n",
    "    co_occurrence_matrix[i,:]+=co_occurrence_matrix[j,:]\n",
    "    ## Summing up the columns of i and j together into i\n",
    "    \n",
    "    co_occurrence_matrix[:,i]+=co_occurrence_matrix[:,j]\n",
    "    ## Set diagonal i,i =0\n",
    "    co_occurrence_matrix[i,i]=0\n",
    "    ## Set all elements in j=0\n",
    "    co_occurrence_matrix[j,:]=0\n",
    "    co_occurrence_matrix[:,j]=0\n",
    "\n",
    "# Final cluster assignments\n",
    "cluster_assignment"
   ]
  },
  {
   "cell_type": "markdown",
   "metadata": {},
   "source": [
    "**NOTE: DONT RUN FOR LARGE DATASET**<br>\n",
    "Visualizing brown clusters: <br>\n",
    "Install scipy if you didn't use it before. pip install scipy\n"
   ]
  },
  {
   "cell_type": "code",
   "execution_count": null,
   "metadata": {},
   "outputs": [
    {
     "name": "stderr",
     "output_type": "stream",
     "text": [
      "C:\\Users\\Islam\\AppData\\Roaming\\Python\\Python37\\site-packages\\ipykernel_launcher.py:10: ClusterWarning: scipy.cluster: The symmetric non-negative hollow observation matrix looks suspiciously like an uncondensed distance matrix\n",
      "  # Remove the CWD from sys.path while we load stuff.\n"
     ]
    },
    {
     "data": {
      "image/png": "[encoded data removed]",
      "text/plain": [
       "<Figure size 1080x720 with 1 Axes>"
      ]
     },
     "metadata": {},
     "output_type": "display_data"
    }
   ],
   "source": [
    "# This code should be able to visualize brown clustering, however you need to experiment it with less words as it does many\n",
    "# computations for the linkage matrix.\n",
    "import matplotlib.pyplot as plt\n",
    "from scipy.cluster.hierarchy import dendrogram, linkage\n",
    "# Create a linkage matrix for hierarchical clustering\n",
    "## Single: merge based on minimum distance between clusters\n",
    "## Complete: merge based on maximum distance\n",
    "## Average: Which averages the distance between elements in cluster i and j\n",
    "## Ward: Optimized method using Error Sum of Squares \n",
    "linkage_matrix = linkage(co_occurrence_matrix, method='average')\n",
    "# Plot the dendrogram\n",
    "plt.figure(figsize=(15,10))\n",
    "dendrogram(linkage_matrix, labels=list(vocab), orientation='right')\n",
    "plt.xlabel('Word Clusters')\n",
    "plt.ylabel('Words')\n",
    "plt.title('Brown Clustering Dendogram')\n",
    "plt.show()"
   ]
  },
  {
   "cell_type": "markdown",
   "metadata": {},
   "source": [
    "### GloVe: \n",
    "Global Vectors for Word Representation is an unsupervised learning algorithm used to learn word embeddings from large amounts of text data. Word embeddings are dense vector representations of words that capture semantic relationships between words based on their co-occurrence statistics. "
   ]
  },
  {
   "cell_type": "markdown",
   "metadata": {},
   "source": [
    "- Steps: Preprocess the text data.<br>\n",
    "Created the dictionary.<br>\n",
    "Traverse the glove file of a specific dimension and compare each word with all words in the dictionary,\n",
    "if a match occurs, copy the equivalent vector from the glove and paste into embedding_matrix at the corresponding index.<br>\n"
   ]
  },
  {
   "cell_type": "code",
   "execution_count": null,
   "metadata": {},
   "outputs": [
    {
     "name": "stdout",
     "output_type": "stream",
     "text": [
      "Dense vector for first word is =>  [ 0.44264999  0.84764999 -0.4598      0.67992997  0.13841     0.39456001\n",
      " -0.17343    -0.64055002  0.86439002  0.81624001  0.75738001  0.41143\n",
      "  1.09350002 -0.30068001 -0.08486     0.51784003  1.08700001  0.45061001\n",
      " -0.49595001 -0.60650003 -0.16749001 -0.28557    -0.043719   -0.86154002\n",
      "  0.3396     -0.75239998 -0.33206001  0.24668001  1.00209999  0.71923\n",
      "  3.30769992 -0.64754999  0.16509999 -0.91650999 -0.035363    0.21794\n",
      " -0.87897003  0.37801     0.66733003  0.42054    -0.21387     0.15917\n",
      "  0.52244997  0.20587    -0.16714001  0.58058    -0.36827999  0.035571\n",
      "  0.014099   -0.24817   ]\n"
     ]
    }
   ],
   "source": [
    "#Download Glove Pretrained Embeddings From: http://nlp.stanford.edu/data/glove.6B.zip  \n",
    "\n",
    "def embedding_for_vocab(filepath, word_index,\n",
    "                        embedding_dim):\n",
    "    vocab_size = len(word_index) + 1\n",
    "      \n",
    "    # Adding again 1 because of reserved 0 index\n",
    "    embedding_matrix_vocab = np.zeros((vocab_size,\n",
    "                                       embedding_dim))\n",
    "  \n",
    "    with open(filepath, encoding=\"utf8\") as f:\n",
    "        for line in f:\n",
    "            word, *vector = line.split()\n",
    "            if word in word_index:\n",
    "                idx = word_index.index(word)\n",
    "                embedding_matrix_vocab[idx] = np.array(\n",
    "                    vector, dtype=np.float32)[:embedding_dim]\n",
    "  \n",
    "    return embedding_matrix_vocab\n",
    "  \n",
    "  \n",
    "# matrix for vocab: tokenized_words\n",
    "embedding_dim = 50\n",
    "embedding_matrix_vocab = embedding_for_vocab(\n",
    "    './glove.6B/glove.6B.50d.txt', tokenized_words,\n",
    "  embedding_dim)\n",
    "  \n",
    "print(\"Dense vector for first word is => \",\n",
    "      embedding_matrix_vocab[0])"
   ]
  },
  {
   "cell_type": "markdown",
   "metadata": {},
   "source": [
    "### Dimensionality Reduction --> SVD (LSA)\n",
    "    Latent Semantic Analysis (LSA) is a technique used in natural language processing to uncover the latent structure in a corpus of text documents by applying Singular Value Decomposition (SVD) to a term-document matrix. It allows us to reduce the dimensionality of the document-term space, thereby capturing the underlying semantic relationships between words and documents."
   ]
  },
  {
   "cell_type": "markdown",
   "metadata": {},
   "source": [
    "Lets create a text corpus:"
   ]
  },
  {
   "cell_type": "code",
   "execution_count": null,
   "metadata": {},
   "outputs": [],
   "source": [
    "corpus = [\n",
    "    \"The quick brown fox jumps over the lazy dog.\",\n",
    "    \"The dog barked at the fox.\",\n",
    "    'Artificial intelligence is a domain trying to mimic human activity.',\n",
    "    'NLP uses machine code to understand human language.',\n",
    "    \"The fox ran away quickly.\",\n",
    "    \"The dog is lazy.\",\n",
    "    \"NLP is a useful topic in Artificial Intelligence.\",\n",
    "    \"The fox is cunning.\",\n",
    "    'Machines are now utilized with Machine Learning techniques.'\n",
    "]\n"
   ]
  },
  {
   "cell_type": "markdown",
   "metadata": {},
   "source": [
    "- Create Document-Term Matrix: We use the CountVectorizer from scikit-learn to convert the text documents into a document-term matrix. Each row in the matrix corresponds to a document, and each column represents a word's frequency in that document.\n",
    "\n",
    "- Apply LSA (SVD): We use the TruncatedSVD class from scikit-learn to perform Latent Semantic Analysis. We specify the number of components (dimensions) we want to reduce the feature space to (in this case, we use n_components=2 for simplicity).\n",
    "\n",
    "- Normalize Data: To ensure that each row in the transformed matrix has unit norm, we use the Normalizer from scikit-learn.\n",
    "\n"
   ]
  },
  {
   "cell_type": "code",
   "execution_count": null,
   "metadata": {},
   "outputs": [],
   "source": [
    "from sklearn.feature_extraction.text import CountVectorizer\n",
    "from sklearn.decomposition import TruncatedSVD\n",
    "from sklearn.preprocessing import Normalizer\n",
    "from sklearn.pipeline import make_pipeline"
   ]
  },
  {
   "cell_type": "code",
   "execution_count": null,
   "metadata": {},
   "outputs": [
    {
     "name": "stdout",
     "output_type": "stream",
     "text": [
      "  (0, 30)\t2\n",
      "  (0, 26)\t1\n",
      "  (0, 6)\t1\n",
      "  (0, 11)\t1\n",
      "  (0, 16)\t1\n",
      "  (0, 25)\t1\n",
      "  (0, 18)\t1\n",
      "  (0, 9)\t1\n",
      "  (1, 30)\t2\n",
      "  (1, 11)\t1\n",
      "  (1, 9)\t1\n",
      "  (1, 5)\t1\n",
      "  (1, 3)\t1\n",
      "  (2, 2)\t1\n",
      "  (2, 14)\t1\n",
      "  (2, 15)\t1\n",
      "  (2, 10)\t1\n",
      "  (2, 33)\t1\n",
      "  (2, 31)\t1\n",
      "  (2, 22)\t1\n",
      "  (2, 12)\t1\n",
      "  (2, 0)\t1\n",
      "  (3, 31)\t1\n",
      "  (3, 12)\t1\n",
      "  (3, 23)\t1\n",
      "  :\t:\n",
      "  (4, 4)\t1\n",
      "  (4, 27)\t1\n",
      "  (5, 30)\t1\n",
      "  (5, 18)\t1\n",
      "  (5, 9)\t1\n",
      "  (5, 15)\t1\n",
      "  (6, 2)\t1\n",
      "  (6, 14)\t1\n",
      "  (6, 15)\t1\n",
      "  (6, 23)\t1\n",
      "  (6, 35)\t1\n",
      "  (6, 32)\t1\n",
      "  (6, 13)\t1\n",
      "  (7, 30)\t1\n",
      "  (7, 11)\t1\n",
      "  (7, 15)\t1\n",
      "  (7, 8)\t1\n",
      "  (8, 20)\t1\n",
      "  (8, 21)\t1\n",
      "  (8, 1)\t1\n",
      "  (8, 24)\t1\n",
      "  (8, 37)\t1\n",
      "  (8, 38)\t1\n",
      "  (8, 19)\t1\n",
      "  (8, 29)\t1\n"
     ]
    }
   ],
   "source": [
    "vectorizer = CountVectorizer()\n",
    "X = vectorizer.fit_transform(corpus)\n",
    "print(X)"
   ]
  },
  {
   "cell_type": "code",
   "execution_count": null,
   "metadata": {},
   "outputs": [
    {
     "data": {
      "text/plain": [
       "array([[ 2.97437412, -0.40147243],\n",
       "       [ 2.41391749, -0.31049656],\n",
       "       [ 0.33098849,  2.53187627],\n",
       "       [ 0.07638947,  1.5820206 ],\n",
       "       [ 1.31085395, -0.1798731 ],\n",
       "       [ 1.44123562,  0.24648765],\n",
       "       [ 0.28621921,  1.75272387],\n",
       "       [ 1.35128013,  0.26753324],\n",
       "       [ 0.00611473,  0.34927119]])"
      ]
     },
     "metadata": {},
     "output_type": "display_data"
    }
   ],
   "source": [
    "# Apply SVD (Latent Semantic Analysis)\n",
    "n_components = 2  # Number of components after reducing dimensions\n",
    "lsa = TruncatedSVD(n_components)\n",
    "X_lsa = lsa.fit_transform(X)\n",
    "X_lsa"
   ]
  },
  {
   "cell_type": "code",
   "execution_count": null,
   "metadata": {},
   "outputs": [
    {
     "name": "stdout",
     "output_type": "stream",
     "text": [
      "\n",
      "LSA Reduced Dimensionality:\n",
      "[[ 0.9910132  -0.1337641 ]\n",
      " [ 0.99182872 -0.12757661]\n",
      " [ 0.12962558  0.99156301]\n",
      " [ 0.04822982  0.99883627]\n",
      " [ 0.99071647 -0.13594439]\n",
      " [ 0.98568839  0.16857758]\n",
      " [ 0.16116492  0.98692749]\n",
      " [ 0.98095895  0.19421519]\n",
      " [ 0.01750442  0.99984679]]\n"
     ]
    }
   ],
   "source": [
    "# Normalize the transformed data\n",
    "lsa_pipeline = make_pipeline(lsa, Normalizer(copy=False))\n",
    "X_lsa_normalized = lsa_pipeline.fit_transform(X)\n",
    "print(\"\\nLSA Reduced Dimensionality:\")\n",
    "print(X_lsa_normalized)"
   ]
  },
  {
   "cell_type": "markdown",
   "metadata": {},
   "source": [
    "### BERT Embeddings"
   ]
  },
  {
   "cell_type": "code",
   "execution_count": null,
   "metadata": {},
   "outputs": [],
   "source": [
    "# !pip install transformers"
   ]
  },
  {
   "cell_type": "code",
   "execution_count": null,
   "metadata": {},
   "outputs": [
    {
     "ename": "OSError",
     "evalue": "[WinError 1455] The paging file is too small for this operation to complete. Error loading \"c:\\Users\\Islam\\AppData\\Local\\Programs\\Python\\Python37\\lib\\site-packages\\torch\\lib\\cudnn_cnn_infer64_8.dll\" or one of its dependencies.",
     "output_type": "error",
     "traceback": [
      "\u001b[1;31m---------------------------------------------------------------------------\u001b[0m\n",
      "\u001b[1;31mOSError\u001b[0m                                   Traceback (most recent call last)\n",
      "\u001b[1;32m<ipython-input-1-0fc28fb30e41>\u001b[0m in \u001b[0;36m<module>\u001b[1;34m\u001b[0m\n",
      "\u001b[1;32m----> 1\u001b[1;33m \u001b[1;32mimport\u001b[0m \u001b[0mtorch\u001b[0m\u001b[1;33m\u001b[0m\u001b[1;33m\u001b[0m\u001b[0m\n",
      "\u001b[0m\u001b[0;32m      2\u001b[0m \u001b[1;32mfrom\u001b[0m \u001b[0mtransformers\u001b[0m \u001b[1;32mimport\u001b[0m \u001b[0mBertTokenizer\u001b[0m\u001b[1;33m,\u001b[0m \u001b[0mBertModel\u001b[0m\u001b[1;33m\u001b[0m\u001b[1;33m\u001b[0m\u001b[0m\n",
      "\u001b[0;32m      3\u001b[0m \u001b[1;32mimport\u001b[0m \u001b[0mmatplotlib\u001b[0m\u001b[1;33m.\u001b[0m\u001b[0mpyplot\u001b[0m \u001b[1;32mas\u001b[0m \u001b[0mplt\u001b[0m\u001b[1;33m\u001b[0m\u001b[1;33m\u001b[0m\u001b[0m\n",
      "\u001b[0;32m      4\u001b[0m \u001b[1;31m# Load pre-trained model tokenizer (vocabulary)\u001b[0m\u001b[1;33m\u001b[0m\u001b[1;33m\u001b[0m\u001b[1;33m\u001b[0m\u001b[0m\n",
      "\u001b[0;32m      5\u001b[0m \u001b[0mtokenizer\u001b[0m \u001b[1;33m=\u001b[0m \u001b[0mBertTokenizer\u001b[0m\u001b[1;33m.\u001b[0m\u001b[0mfrom_pretrained\u001b[0m\u001b[1;33m(\u001b[0m\u001b[1;34m'bert-base-uncased'\u001b[0m\u001b[1;33m)\u001b[0m\u001b[1;33m\u001b[0m\u001b[1;33m\u001b[0m\u001b[0m\n",
      "\n",
      "\u001b[1;32mc:\\Users\\Islam\\AppData\\Local\\Programs\\Python\\Python37\\lib\\site-packages\\torch\\__init__.py\u001b[0m in \u001b[0;36m<module>\u001b[1;34m\u001b[0m\n",
      "\u001b[0;32m    122\u001b[0m                 \u001b[0merr\u001b[0m \u001b[1;33m=\u001b[0m \u001b[0mctypes\u001b[0m\u001b[1;33m.\u001b[0m\u001b[0mWinError\u001b[0m\u001b[1;33m(\u001b[0m\u001b[0mlast_error\u001b[0m\u001b[1;33m)\u001b[0m\u001b[1;33m\u001b[0m\u001b[1;33m\u001b[0m\u001b[0m\n",
      "\u001b[0;32m    123\u001b[0m                 \u001b[0merr\u001b[0m\u001b[1;33m.\u001b[0m\u001b[0mstrerror\u001b[0m \u001b[1;33m+=\u001b[0m \u001b[1;34mf' Error loading \"{dll}\" or one of its dependencies.'\u001b[0m\u001b[1;33m\u001b[0m\u001b[1;33m\u001b[0m\u001b[0m\n",
      "\u001b[1;32m--> 124\u001b[1;33m                 \u001b[1;32mraise\u001b[0m \u001b[0merr\u001b[0m\u001b[1;33m\u001b[0m\u001b[1;33m\u001b[0m\u001b[0m\n",
      "\u001b[0m\u001b[0;32m    125\u001b[0m             \u001b[1;32melif\u001b[0m \u001b[0mres\u001b[0m \u001b[1;32mis\u001b[0m \u001b[1;32mnot\u001b[0m \u001b[1;32mNone\u001b[0m\u001b[1;33m:\u001b[0m\u001b[1;33m\u001b[0m\u001b[1;33m\u001b[0m\u001b[0m\n",
      "\u001b[0;32m    126\u001b[0m                 \u001b[0mis_loaded\u001b[0m \u001b[1;33m=\u001b[0m \u001b[1;32mTrue\u001b[0m\u001b[1;33m\u001b[0m\u001b[1;33m\u001b[0m\u001b[0m\n",
      "\n",
      "\u001b[1;31mOSError\u001b[0m: [WinError 1455] The paging file is too small for this operation to complete. Error loading \"c:\\Users\\Islam\\AppData\\Local\\Programs\\Python\\Python37\\lib\\site-packages\\torch\\lib\\cudnn_cnn_infer64_8.dll\" or one of its dependencies."
     ]
    }
   ],
   "source": [
    "import torch\n",
    "from transformers import BertTokenizer, BertModel\n",
    "import matplotlib.pyplot as plt\n",
    "# Load pre-trained model tokenizer (vocabulary)\n",
    "tokenizer = BertTokenizer.from_pretrained('bert-base-uncased')"
   ]
  },
  {
   "cell_type": "markdown",
   "metadata": {},
   "source": [
    "- BERT is a pretrained model that expects that the input data is in a specific format.\n",
    "- The data format is as follows:\n",
    "1. [SEP] is a special token that is used to mark the end of a sentence or the seperation between two sentences.\n",
    "2. [CLS] is a special token that marks the beginning of the text. \n",
    "3. Tokens must conform with the fixed vocab. used in BERT\n",
    "4. TokenIDs should be retrieved from BertTokenizer\n",
    "5. MaskIDs which mark tokens vs padding elements\n",
    "6. SegmentID represents different sentences.\n",
    "7. Position Embeddings used to show token position within the sequence.\n"
   ]
  },
  {
   "cell_type": "code",
   "execution_count": null,
   "metadata": {},
   "outputs": [],
   "source": [
    "corpus = [\n",
    "    \"The quick brown fox jumping over the lazy dog. The dog barked at the fox extract embeddings.\",\n",
    "    \"The fox ran away quickly.\",\n",
    "    \"The dog is lazy.\",\n",
    "    \"The fox is cunning.\",\n",
    "]\n"
   ]
  },
  {
   "cell_type": "code",
   "execution_count": null,
   "metadata": {},
   "outputs": [
    {
     "data": {
      "text/plain": [
       "'[CLS] The quick brown fox jumping over the lazy dog [SEP]. The dog barked at the fox extract embeddings [SEP].'"
      ]
     },
     "metadata": {},
     "output_type": "display_data"
    }
   ],
   "source": [
    "sample_sentence = corpus[0]\n",
    "## Step 1: Adding the special token\n",
    "## Adding a CLS is simple\n",
    "sample_sentence = \"[CLS] \"+sample_sentence\n",
    "sample_sentence\n",
    "## To add the SEP:\n",
    "split_sentence = sample_sentence.split('.')\n",
    "sample_sentence=\" [SEP].\".join(split_sentence)\n",
    "sample_sentence"
   ]
  },
  {
   "cell_type": "code",
   "execution_count": null,
   "metadata": {},
   "outputs": [],
   "source": []
  },
  {
   "cell_type": "code",
   "execution_count": null,
   "metadata": {},
   "outputs": [
    {
     "data": {
      "text/plain": [
       "['[CLS]',\n",
       " 'the',\n",
       " 'quick',\n",
       " 'brown',\n",
       " 'fox',\n",
       " 'jumping',\n",
       " 'over',\n",
       " 'the',\n",
       " 'lazy',\n",
       " 'dog',\n",
       " '[SEP]',\n",
       " '.',\n",
       " 'the',\n",
       " 'dog',\n",
       " 'barked',\n",
       " 'at',\n",
       " 'the',\n",
       " 'fox',\n",
       " 'extract',\n",
       " 'em',\n",
       " '##bed',\n",
       " '##ding',\n",
       " '##s',\n",
       " '[SEP]',\n",
       " '.']"
      ]
     },
     "metadata": {},
     "output_type": "display_data"
    }
   ],
   "source": [
    "## To tokenize the text, BERT provides its own tokenizer\n",
    "## Which we already imported\n",
    "tokenized_sentence = tokenizer.tokenize(sample_sentence)\n",
    "tokenized_sentence"
   ]
  },
  {
   "cell_type": "code",
   "execution_count": null,
   "metadata": {},
   "outputs": [],
   "source": [
    "#  'em',\n",
    "#  '##bed',\n",
    "#  '##ding',\n",
    "#  '##s',\n",
    "\n",
    "# embeddings not a common english word\n",
    "# WordPiece model divides it into common subwords\n",
    "# 'em'\n",
    "# '##bed'\n",
    "# '##ding'\n",
    "# '##s'"
   ]
  },
  {
   "cell_type": "markdown",
   "metadata": {},
   "source": [
    "Observations: Some words has been split into smaller subwords and characters. The <b>two hash signs</b> preceding some of these subwords are just the tokenizer’s way to denote that this subword or character is part of a larger word and preceded by another subword. So, for example, the ‘##bed’ token is separate from the ‘bed’ token; the first is used whenever the subword ‘bed’ occurs within a larger word and the second is used explicitly for when the standalone token ‘thing you sleep on’ occurs.\n",
    "\n"
   ]
  },
  {
   "cell_type": "markdown",
   "metadata": {},
   "source": [
    "Why?\n",
    "BERT is created using WordPiece model, where WordPiece model generated a vocabulary that contains all English characters plus the ~30,000 most common words and subwords found in the English language corpus the model is trained on."
   ]
  },
  {
   "cell_type": "code",
   "execution_count": null,
   "metadata": {},
   "outputs": [
    {
     "data": {
      "text/plain": [
       "['tears',\n",
       " 'senate',\n",
       " '00',\n",
       " 'card',\n",
       " 'asian',\n",
       " 'agent',\n",
       " '1947',\n",
       " 'software',\n",
       " '44',\n",
       " 'draw',\n",
       " 'warm',\n",
       " 'supposed',\n",
       " 'com',\n",
       " 'pro',\n",
       " '##il']"
      ]
     },
     "metadata": {},
     "output_type": "display_data"
    }
   ],
   "source": [
    "list(tokenizer.vocab.keys())[4000:4015]\n"
   ]
  },
  {
   "cell_type": "code",
   "execution_count": null,
   "metadata": {},
   "outputs": [
    {
     "data": {
      "text/plain": [
       "[101,\n",
       " 1996,\n",
       " 4248,\n",
       " 2829,\n",
       " 4419,\n",
       " 8660,\n",
       " 2058,\n",
       " 1996,\n",
       " 13971,\n",
       " 3899,\n",
       " 102,\n",
       " 1012,\n",
       " 1996,\n",
       " 3899,\n",
       " 17554,\n",
       " 2012,\n",
       " 1996,\n",
       " 4419,\n",
       " 14817,\n",
       " 7861,\n",
       " 8270,\n",
       " 4667,\n",
       " 2015,\n",
       " 102,\n",
       " 1012]"
      ]
     },
     "metadata": {},
     "output_type": "display_data"
    }
   ],
   "source": [
    "## To convert the tokens into Vocab Indices\n",
    "indexed_tokens = tokenizer.convert_tokens_to_ids(tokenized_sentence)\n",
    "indexed_tokens"
   ]
  },
  {
   "cell_type": "code",
   "execution_count": null,
   "metadata": {},
   "outputs": [
    {
     "name": "stdout",
     "output_type": "stream",
     "text": [
      "[CLS]      :   101    \n",
      "the        :   1996   \n",
      "quick      :   4248   \n",
      "brown      :   2829   \n",
      "fox        :   4419   \n",
      "jumping    :   8660   \n",
      "over       :   2058   \n",
      "the        :   1996   \n",
      "lazy       :  13971   \n",
      "dog        :   3899   \n",
      "[SEP]      :   102    \n",
      ".          :   1012   \n",
      "the        :   1996   \n",
      "dog        :   3899   \n",
      "barked     :  17554   \n",
      "at         :   2012   \n",
      "the        :   1996   \n",
      "fox        :   4419   \n",
      "extract    :  14817   \n",
      "em         :   7861   \n",
      "##bed      :   8270   \n",
      "##ding     :   4667   \n",
      "##s        :   2015   \n",
      "[SEP]      :   102    \n",
      ".          :   1012   \n"
     ]
    }
   ],
   "source": [
    "for tup in zip(tokenized_sentence, indexed_tokens):\n",
    "    # Spacing can be added in formatted text using :<and size of spacing\n",
    "    print('{:<10} :{:^10}'.format(tup[0], tup[1]))"
   ]
  },
  {
   "cell_type": "code",
   "execution_count": null,
   "metadata": {},
   "outputs": [
    {
     "name": "stdout",
     "output_type": "stream",
     "text": [
      "[1, 1, 1, 1, 1, 1, 1, 1, 1, 1, 1, 1, 1, 1, 1, 1, 1, 1, 1, 1, 1, 1, 1, 1, 1]\n"
     ]
    }
   ],
   "source": [
    "## Now we need to assign segment ID to tokens\n",
    "segments_ids = [1] * len(tokenized_sentence)\n",
    "\n",
    "print (segments_ids)"
   ]
  },
  {
   "cell_type": "markdown",
   "metadata": {},
   "source": [
    "## Extracting Embeddings"
   ]
  },
  {
   "cell_type": "code",
   "execution_count": null,
   "metadata": {},
   "outputs": [
    {
     "data": {
      "text/plain": [
       "BertModel(\n",
       "  (embeddings): BertEmbeddings(\n",
       "    (word_embeddings): Embedding(30522, 768, padding_idx=0)\n",
       "    (position_embeddings): Embedding(512, 768)\n",
       "    (token_type_embeddings): Embedding(2, 768)\n",
       "    (LayerNorm): LayerNorm((768,), eps=1e-12, elementwise_affine=True)\n",
       "    (dropout): Dropout(p=0.1, inplace=False)\n",
       "  )\n",
       "  (encoder): BertEncoder(\n",
       "    (layer): ModuleList(\n",
       "      (0): BertLayer(\n",
       "        (attention): BertAttention(\n",
       "          (self): BertSelfAttention(\n",
       "            (query): Linear(in_features=768, out_features=768, bias=True)\n",
       "            (key): Linear(in_features=768, out_features=768, bias=True)\n",
       "            (value): Linear(in_features=768, out_features=768, bias=True)\n",
       "            (dropout): Dropout(p=0.1, inplace=False)\n",
       "          )\n",
       "          (output): BertSelfOutput(\n",
       "            (dense): Linear(in_features=768, out_features=768, bias=True)\n",
       "            (LayerNorm): LayerNorm((768,), eps=1e-12, elementwise_affine=True)\n",
       "            (dropout): Dropout(p=0.1, inplace=False)\n",
       "          )\n",
       "        )\n",
       "        (intermediate): BertIntermediate(\n",
       "          (dense): Linear(in_features=768, out_features=3072, bias=True)\n",
       "        )\n",
       "        (output): BertOutput(\n",
       "          (dense): Linear(in_features=3072, out_features=768, bias=True)\n",
       "          (LayerNorm): LayerNorm((768,), eps=1e-12, elementwise_affine=True)\n",
       "          (dropout): Dropout(p=0.1, inplace=False)\n",
       "        )\n",
       "      )\n",
       "      (1): BertLayer(\n",
       "        (attention): BertAttention(\n",
       "          (self): BertSelfAttention(\n",
       "            (query): Linear(in_features=768, out_features=768, bias=True)\n",
       "            (key): Linear(in_features=768, out_features=768, bias=True)\n",
       "            (value): Linear(in_features=768, out_features=768, bias=True)\n",
       "            (dropout): Dropout(p=0.1, inplace=False)\n",
       "          )\n",
       "          (output): BertSelfOutput(\n",
       "            (dense): Linear(in_features=768, out_features=768, bias=True)\n",
       "            (LayerNorm): LayerNorm((768,), eps=1e-12, elementwise_affine=True)\n",
       "            (dropout): Dropout(p=0.1, inplace=False)\n",
       "          )\n",
       "        )\n",
       "        (intermediate): BertIntermediate(\n",
       "          (dense): Linear(in_features=768, out_features=3072, bias=True)\n",
       "        )\n",
       "        (output): BertOutput(\n",
       "          (dense): Linear(in_features=3072, out_features=768, bias=True)\n",
       "          (LayerNorm): LayerNorm((768,), eps=1e-12, elementwise_affine=True)\n",
       "          (dropout): Dropout(p=0.1, inplace=False)\n",
       "        )\n",
       "      )\n",
       "      (2): BertLayer(\n",
       "        (attention): BertAttention(\n",
       "          (self): BertSelfAttention(\n",
       "            (query): Linear(in_features=768, out_features=768, bias=True)\n",
       "            (key): Linear(in_features=768, out_features=768, bias=True)\n",
       "            (value): Linear(in_features=768, out_features=768, bias=True)\n",
       "            (dropout): Dropout(p=0.1, inplace=False)\n",
       "          )\n",
       "          (output): BertSelfOutput(\n",
       "            (dense): Linear(in_features=768, out_features=768, bias=True)\n",
       "            (LayerNorm): LayerNorm((768,), eps=1e-12, elementwise_affine=True)\n",
       "            (dropout): Dropout(p=0.1, inplace=False)\n",
       "          )\n",
       "        )\n",
       "        (intermediate): BertIntermediate(\n",
       "          (dense): Linear(in_features=768, out_features=3072, bias=True)\n",
       "        )\n",
       "        (output): BertOutput(\n",
       "          (dense): Linear(in_features=3072, out_features=768, bias=True)\n",
       "          (LayerNorm): LayerNorm((768,), eps=1e-12, elementwise_affine=True)\n",
       "          (dropout): Dropout(p=0.1, inplace=False)\n",
       "        )\n",
       "      )\n",
       "      (3): BertLayer(\n",
       "        (attention): BertAttention(\n",
       "          (self): BertSelfAttention(\n",
       "            (query): Linear(in_features=768, out_features=768, bias=True)\n",
       "            (key): Linear(in_features=768, out_features=768, bias=True)\n",
       "            (value): Linear(in_features=768, out_features=768, bias=True)\n",
       "            (dropout): Dropout(p=0.1, inplace=False)\n",
       "          )\n",
       "          (output): BertSelfOutput(\n",
       "            (dense): Linear(in_features=768, out_features=768, bias=True)\n",
       "            (LayerNorm): LayerNorm((768,), eps=1e-12, elementwise_affine=True)\n",
       "            (dropout): Dropout(p=0.1, inplace=False)\n",
       "          )\n",
       "        )\n",
       "        (intermediate): BertIntermediate(\n",
       "          (dense): Linear(in_features=768, out_features=3072, bias=True)\n",
       "        )\n",
       "        (output): BertOutput(\n",
       "          (dense): Linear(in_features=3072, out_features=768, bias=True)\n",
       "          (LayerNorm): LayerNorm((768,), eps=1e-12, elementwise_affine=True)\n",
       "          (dropout): Dropout(p=0.1, inplace=False)\n",
       "        )\n",
       "      )\n",
       "      (4): BertLayer(\n",
       "        (attention): BertAttention(\n",
       "          (self): BertSelfAttention(\n",
       "            (query): Linear(in_features=768, out_features=768, bias=True)\n",
       "            (key): Linear(in_features=768, out_features=768, bias=True)\n",
       "            (value): Linear(in_features=768, out_features=768, bias=True)\n",
       "            (dropout): Dropout(p=0.1, inplace=False)\n",
       "          )\n",
       "          (output): BertSelfOutput(\n",
       "            (dense): Linear(in_features=768, out_features=768, bias=True)\n",
       "            (LayerNorm): LayerNorm((768,), eps=1e-12, elementwise_affine=True)\n",
       "            (dropout): Dropout(p=0.1, inplace=False)\n",
       "          )\n",
       "        )\n",
       "        (intermediate): BertIntermediate(\n",
       "          (dense): Linear(in_features=768, out_features=3072, bias=True)\n",
       "        )\n",
       "        (output): BertOutput(\n",
       "          (dense): Linear(in_features=3072, out_features=768, bias=True)\n",
       "          (LayerNorm): LayerNorm((768,), eps=1e-12, elementwise_affine=True)\n",
       "          (dropout): Dropout(p=0.1, inplace=False)\n",
       "        )\n",
       "      )\n",
       "      (5): BertLayer(\n",
       "        (attention): BertAttention(\n",
       "          (self): BertSelfAttention(\n",
       "            (query): Linear(in_features=768, out_features=768, bias=True)\n",
       "            (key): Linear(in_features=768, out_features=768, bias=True)\n",
       "            (value): Linear(in_features=768, out_features=768, bias=True)\n",
       "            (dropout): Dropout(p=0.1, inplace=False)\n",
       "          )\n",
       "          (output): BertSelfOutput(\n",
       "            (dense): Linear(in_features=768, out_features=768, bias=True)\n",
       "            (LayerNorm): LayerNorm((768,), eps=1e-12, elementwise_affine=True)\n",
       "            (dropout): Dropout(p=0.1, inplace=False)\n",
       "          )\n",
       "        )\n",
       "        (intermediate): BertIntermediate(\n",
       "          (dense): Linear(in_features=768, out_features=3072, bias=True)\n",
       "        )\n",
       "        (output): BertOutput(\n",
       "          (dense): Linear(in_features=3072, out_features=768, bias=True)\n",
       "          (LayerNorm): LayerNorm((768,), eps=1e-12, elementwise_affine=True)\n",
       "          (dropout): Dropout(p=0.1, inplace=False)\n",
       "        )\n",
       "      )\n",
       "      (6): BertLayer(\n",
       "        (attention): BertAttention(\n",
       "          (self): BertSelfAttention(\n",
       "            (query): Linear(in_features=768, out_features=768, bias=True)\n",
       "            (key): Linear(in_features=768, out_features=768, bias=True)\n",
       "            (value): Linear(in_features=768, out_features=768, bias=True)\n",
       "            (dropout): Dropout(p=0.1, inplace=False)\n",
       "          )\n",
       "          (output): BertSelfOutput(\n",
       "            (dense): Linear(in_features=768, out_features=768, bias=True)\n",
       "            (LayerNorm): LayerNorm((768,), eps=1e-12, elementwise_affine=True)\n",
       "            (dropout): Dropout(p=0.1, inplace=False)\n",
       "          )\n",
       "        )\n",
       "        (intermediate): BertIntermediate(\n",
       "          (dense): Linear(in_features=768, out_features=3072, bias=True)\n",
       "        )\n",
       "        (output): BertOutput(\n",
       "          (dense): Linear(in_features=3072, out_features=768, bias=True)\n",
       "          (LayerNorm): LayerNorm((768,), eps=1e-12, elementwise_affine=True)\n",
       "          (dropout): Dropout(p=0.1, inplace=False)\n",
       "        )\n",
       "      )\n",
       "      (7): BertLayer(\n",
       "        (attention): BertAttention(\n",
       "          (self): BertSelfAttention(\n",
       "            (query): Linear(in_features=768, out_features=768, bias=True)\n",
       "            (key): Linear(in_features=768, out_features=768, bias=True)\n",
       "            (value): Linear(in_features=768, out_features=768, bias=True)\n",
       "            (dropout): Dropout(p=0.1, inplace=False)\n",
       "          )\n",
       "          (output): BertSelfOutput(\n",
       "            (dense): Linear(in_features=768, out_features=768, bias=True)\n",
       "            (LayerNorm): LayerNorm((768,), eps=1e-12, elementwise_affine=True)\n",
       "            (dropout): Dropout(p=0.1, inplace=False)\n",
       "          )\n",
       "        )\n",
       "        (intermediate): BertIntermediate(\n",
       "          (dense): Linear(in_features=768, out_features=3072, bias=True)\n",
       "        )\n",
       "        (output): BertOutput(\n",
       "          (dense): Linear(in_features=3072, out_features=768, bias=True)\n",
       "          (LayerNorm): LayerNorm((768,), eps=1e-12, elementwise_affine=True)\n",
       "          (dropout): Dropout(p=0.1, inplace=False)\n",
       "        )\n",
       "      )\n",
       "      (8): BertLayer(\n",
       "        (attention): BertAttention(\n",
       "          (self): BertSelfAttention(\n",
       "            (query): Linear(in_features=768, out_features=768, bias=True)\n",
       "            (key): Linear(in_features=768, out_features=768, bias=True)\n",
       "            (value): Linear(in_features=768, out_features=768, bias=True)\n",
       "            (dropout): Dropout(p=0.1, inplace=False)\n",
       "          )\n",
       "          (output): BertSelfOutput(\n",
       "            (dense): Linear(in_features=768, out_features=768, bias=True)\n",
       "            (LayerNorm): LayerNorm((768,), eps=1e-12, elementwise_affine=True)\n",
       "            (dropout): Dropout(p=0.1, inplace=False)\n",
       "          )\n",
       "        )\n",
       "        (intermediate): BertIntermediate(\n",
       "          (dense): Linear(in_features=768, out_features=3072, bias=True)\n",
       "        )\n",
       "        (output): BertOutput(\n",
       "          (dense): Linear(in_features=3072, out_features=768, bias=True)\n",
       "          (LayerNorm): LayerNorm((768,), eps=1e-12, elementwise_affine=True)\n",
       "          (dropout): Dropout(p=0.1, inplace=False)\n",
       "        )\n",
       "      )\n",
       "      (9): BertLayer(\n",
       "        (attention): BertAttention(\n",
       "          (self): BertSelfAttention(\n",
       "            (query): Linear(in_features=768, out_features=768, bias=True)\n",
       "            (key): Linear(in_features=768, out_features=768, bias=True)\n",
       "            (value): Linear(in_features=768, out_features=768, bias=True)\n",
       "            (dropout): Dropout(p=0.1, inplace=False)\n",
       "          )\n",
       "          (output): BertSelfOutput(\n",
       "            (dense): Linear(in_features=768, out_features=768, bias=True)\n",
       "            (LayerNorm): LayerNorm((768,), eps=1e-12, elementwise_affine=True)\n",
       "            (dropout): Dropout(p=0.1, inplace=False)\n",
       "          )\n",
       "        )\n",
       "        (intermediate): BertIntermediate(\n",
       "          (dense): Linear(in_features=768, out_features=3072, bias=True)\n",
       "        )\n",
       "        (output): BertOutput(\n",
       "          (dense): Linear(in_features=3072, out_features=768, bias=True)\n",
       "          (LayerNorm): LayerNorm((768,), eps=1e-12, elementwise_affine=True)\n",
       "          (dropout): Dropout(p=0.1, inplace=False)\n",
       "        )\n",
       "      )\n",
       "      (10): BertLayer(\n",
       "        (attention): BertAttention(\n",
       "          (self): BertSelfAttention(\n",
       "            (query): Linear(in_features=768, out_features=768, bias=True)\n",
       "            (key): Linear(in_features=768, out_features=768, bias=True)\n",
       "            (value): Linear(in_features=768, out_features=768, bias=True)\n",
       "            (dropout): Dropout(p=0.1, inplace=False)\n",
       "          )\n",
       "          (output): BertSelfOutput(\n",
       "            (dense): Linear(in_features=768, out_features=768, bias=True)\n",
       "            (LayerNorm): LayerNorm((768,), eps=1e-12, elementwise_affine=True)\n",
       "            (dropout): Dropout(p=0.1, inplace=False)\n",
       "          )\n",
       "        )\n",
       "        (intermediate): BertIntermediate(\n",
       "          (dense): Linear(in_features=768, out_features=3072, bias=True)\n",
       "        )\n",
       "        (output): BertOutput(\n",
       "          (dense): Linear(in_features=3072, out_features=768, bias=True)\n",
       "          (LayerNorm): LayerNorm((768,), eps=1e-12, elementwise_affine=True)\n",
       "          (dropout): Dropout(p=0.1, inplace=False)\n",
       "        )\n",
       "      )\n",
       "      (11): BertLayer(\n",
       "        (attention): BertAttention(\n",
       "          (self): BertSelfAttention(\n",
       "            (query): Linear(in_features=768, out_features=768, bias=True)\n",
       "            (key): Linear(in_features=768, out_features=768, bias=True)\n",
       "            (value): Linear(in_features=768, out_features=768, bias=True)\n",
       "            (dropout): Dropout(p=0.1, inplace=False)\n",
       "          )\n",
       "          (output): BertSelfOutput(\n",
       "            (dense): Linear(in_features=768, out_features=768, bias=True)\n",
       "            (LayerNorm): LayerNorm((768,), eps=1e-12, elementwise_affine=True)\n",
       "            (dropout): Dropout(p=0.1, inplace=False)\n",
       "          )\n",
       "        )\n",
       "        (intermediate): BertIntermediate(\n",
       "          (dense): Linear(in_features=768, out_features=3072, bias=True)\n",
       "        )\n",
       "        (output): BertOutput(\n",
       "          (dense): Linear(in_features=3072, out_features=768, bias=True)\n",
       "          (LayerNorm): LayerNorm((768,), eps=1e-12, elementwise_affine=True)\n",
       "          (dropout): Dropout(p=0.1, inplace=False)\n",
       "        )\n",
       "      )\n",
       "    )\n",
       "  )\n",
       "  (pooler): BertPooler(\n",
       "    (dense): Linear(in_features=768, out_features=768, bias=True)\n",
       "    (activation): Tanh()\n",
       "  )\n",
       ")"
      ]
     },
     "metadata": {},
     "output_type": "display_data"
    }
   ],
   "source": [
    "# We need to convert the data we have into torch tensors, and then\n",
    "# Load the model\n",
    "torch_tensor = torch.tensor([indexed_tokens])\n",
    "segment_tensor = torch.tensor([segments_ids])\n",
    "\n",
    "model=BertModel.from_pretrained('bert-base-uncased',\n",
    "                                output_hidden_states=True) \n",
    "## output_hidden_states tells the model to return all hidden states\n",
    "# Put the model in \"evaluation\" mode [feed-forward operation]\n",
    "model.eval()"
   ]
  },
  {
   "cell_type": "code",
   "execution_count": null,
   "metadata": {},
   "outputs": [],
   "source": [
    "# Run the text through BERT, and collect all of the hidden states produce from the 12 layers. \n",
    "with torch.no_grad():\n",
    "\n",
    "    outputs = model(torch_tensor, segment_tensor)\n",
    "\n",
    "\n",
    "    # Because output_hidden_states is set to true, the third item will be hidden\n",
    "    # states from all layers, different configurations could be used when\n",
    "    # calling from_pretrained\n",
    "    hidden_states = outputs[2]\n",
    "    "
   ]
  },
  {
   "cell_type": "code",
   "execution_count": null,
   "metadata": {},
   "outputs": [
    {
     "name": "stdout",
     "output_type": "stream",
     "text": [
      "Number of layers: 13   (initial embeddings + 12 BERT layers)\n",
      "Number of batches: 1\n",
      "Number of tokens: 25\n",
      "Number of hidden units: 768\n"
     ]
    }
   ],
   "source": [
    "# Understanding the output\n",
    "print (\"Number of layers:\", len(hidden_states), \"  (initial embeddings + 12 BERT layers)\")\n",
    "\n",
    "print (\"Number of batches:\", len(hidden_states[0]))\n",
    "\n",
    "print (\"Number of tokens:\", len(hidden_states[0][0]))\n",
    "\n",
    "print (\"Number of hidden units:\", len(hidden_states[0][0][0]))"
   ]
  },
  {
   "cell_type": "markdown",
   "metadata": {},
   "source": [
    "- Conclusion: You can make use of a torch of size [25, 13, 768 ]\n",
    "So, for each token, ( 13,768) vector can represent it."
   ]
  },
  {
   "cell_type": "code",
   "execution_count": null,
   "metadata": {},
   "outputs": [
    {
     "name": "stdout",
     "output_type": "stream",
     "text": [
      "tensor([[[ 0.1686, -0.2858, -0.3261,  ..., -0.0276,  0.0383,  0.1640],\n",
      "         [-0.4367,  0.5360, -0.0514,  ..., -0.0397,  0.6783, -0.5318],\n",
      "         [ 0.0764, -1.3345, -0.1239,  ..., -0.5126,  1.4597, -0.7255],\n",
      "         ...,\n",
      "         [-0.4762, -0.0660,  0.4777,  ...,  0.0764, -0.2680,  0.1501],\n",
      "         [-0.2840,  0.2271,  0.0111,  ..., -0.1397,  0.0289, -0.2636],\n",
      "         [-0.3635,  0.4525, -0.2429,  ...,  0.5196,  0.5170,  0.5195]]])\n"
     ]
    }
   ],
   "source": [
    "print(hidden_states[0])"
   ]
  }
 ],
 "metadata": {
  "language_info": {
   "name": "python"
  }
 },
 "nbformat": 4,
 "nbformat_minor": 2
}
