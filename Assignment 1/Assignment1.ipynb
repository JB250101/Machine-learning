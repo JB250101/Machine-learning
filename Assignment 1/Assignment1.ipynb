{
 "cells": [
  {
   "cell_type": "markdown",
   "metadata": {},
   "source": [
    "## PROG8245 Assignment 1: (Total Marks 100)\n",
    "## Start on 16th of September- Due on 27th of September"
   ]
  },
  {
   "cell_type": "markdown",
   "metadata": {},
   "source": [
    "- TODO: write your name and ID below\n",
    "- Name: Jaiv Burman\n",
    "- ID: 8930180\n",
    "- Kindly note that this assignment is to be solved by yourself, without the use of AI and chatbots.\n",
    "- If chatbot usage is detected, the penalty that is discussed in Week 1 slides will apply.\n",
    "- Each code block will have a Todo comment which explains the functionality, expected input, and expected output of the function.\n",
    "- There are 10 marks in this assignment for assuring that the code couldn't be broken (no errors can be thrown, please consider mathematical and logical errors)\n",
    "- There are 10 marks in this assignment for commenting and code readability.\n"
   ]
  },
  {
   "cell_type": "markdown",
   "metadata": {},
   "source": [
    "### Part 1: Python Basics"
   ]
  },
  {
   "cell_type": "markdown",
   "metadata": {},
   "source": [
    "#### Question 1:"
   ]
  },
  {
   "cell_type": "code",
   "execution_count": 4,
   "metadata": {},
   "outputs": [
    {
     "name": "stdout",
     "output_type": "stream",
     "text": [
      "The price of the item plus the applicable taxes is: 87.0\n"
     ]
    }
   ],
   "source": [
    "price = float(input(\"Enter the price of an item: \")) # to take price as an input\n",
    "tax = 0.13 # which is 13%\n",
    "def total_price(price, tax):\n",
    "    # 3 marks\n",
    "    # TODO: write the functionality of the code where\n",
    "    #  you are taking as an input a price of an item and the\n",
    "    #  tax in decimal (13% tax will be given as 0.13),\n",
    "    #  you should return the taxedPrice of that item\n",
    "    #  which will be the total price after tax a customer must pay\n",
    "    # (The price of the item plus the applicable taxes)\n",
    "    taxedPrice = price - (price * tax)\n",
    "    return taxedPrice\n",
    "\n",
    "print(f\"The price of the item plus the applicable taxes is: {total_price(price, tax)}\")\n"
   ]
  },
  {
   "cell_type": "markdown",
   "metadata": {},
   "source": [
    "#### Question 2:"
   ]
  },
  {
   "cell_type": "code",
   "execution_count": 5,
   "metadata": {},
   "outputs": [
    {
     "name": "stdout",
     "output_type": "stream",
     "text": [
      "for 4 & 2 as 4/2:\n"
     ]
    },
    {
     "data": {
      "text/plain": [
       "True"
      ]
     },
     "execution_count": 5,
     "metadata": {},
     "output_type": "execute_result"
    }
   ],
   "source": [
    "def divisible_by(x, y):\n",
    "    # 3 marks\n",
    "    # TODO: write a function that returns True if x is divisible by y,\n",
    "    #  and returns False OTHERWISE (all other cases).\n",
    "    if y==0:\n",
    "        return False\n",
    "    \n",
    "    return x%y ==0\n",
    "\n",
    "x= int(input(\" Enter the 1st number: \"))\n",
    "y= int(input(\" Enter the 2nd number: \"))\n",
    "\n",
    "print(f\"for {x} & {y} as {x}/{y}:\")\n",
    "divisible_by(x,y)"
   ]
  },
  {
   "cell_type": "markdown",
   "metadata": {},
   "source": [
    "#### Question 3:"
   ]
  },
  {
   "cell_type": "code",
   "execution_count": 10,
   "metadata": {},
   "outputs": [
    {
     "data": {
      "text/plain": [
       "'invalid'"
      ]
     },
     "execution_count": 10,
     "metadata": {},
     "output_type": "execute_result"
    }
   ],
   "source": [
    "def basic_calculator(x, y, operator):\n",
    "    try:\n",
    "        if operator == '+':\n",
    "            result = x + y\n",
    "        elif operator == '-':\n",
    "            result = x - y\n",
    "        elif operator == '*':\n",
    "            result = x * y\n",
    "        elif operator == '/':\n",
    "            if y == 0:\n",
    "                return \"error\"\n",
    "            result = x / y\n",
    "        elif operator == '%':\n",
    "            if y == 0:\n",
    "                return \"error\"\n",
    "            result = x % y\n",
    "        elif operator == '//':\n",
    "            if y == 0:\n",
    "                return \"error\"\n",
    "            result = x // y\n",
    "        else:\n",
    "            return \"invalid\"\n",
    "        \n",
    "        return result\n",
    "    except Exception as e:\n",
    "        return \"error\"\n",
    "x= int(input(\" Enter the 1st number: \"))\n",
    "y= int(input(\" Enter the 2nd number: \"))\n",
    "operator  = input(\" Enter the operator (+, -, *, /, %, //): \")    \n",
    "\n",
    "basic_calculator(x,y,operator)\n",
    "\n",
    "    # 5 marks\n",
    "    # TODO: write the functionality of the code where you are\n",
    "    #  coding a basic calculator that performs basic addition \"+\", subtraction \"-\",\n",
    "    #  multiplication \"*\", division \"/\", modulus \"%\" and integer division \"//\"\n",
    "    #  the function must apply the operator to x and y for example:\n",
    "    #  basicCalculator(10, 15, \"*\") should apply 10*15 and save it to the result variable\n",
    "    #  NOTE: YOU NEED TO HANDLE DIVISION ERRORS BY RETURNING A STRING WITH THE WORD \"error\"\n",
    "    #  NOTE: YOU NEED TO HANDLE AN INVALID OPERATOR BY RETURNING A STRING HAVING THE WORD \"invalid\""
   ]
  },
  {
   "cell_type": "markdown",
   "metadata": {},
   "source": [
    "#### Question 4:"
   ]
  },
  {
   "cell_type": "code",
   "execution_count": 9,
   "metadata": {},
   "outputs": [
    {
     "name": "stdout",
     "output_type": "stream",
     "text": [
      "invalid\n",
      "invalid\n",
      "invalid\n",
      "invalid\n",
      "invalid\n",
      "invalid\n",
      "invalid\n",
      "invalid\n",
      "invalid\n",
      "invalid\n",
      "invalid\n",
      "invalid\n",
      "invalid\n"
     ]
    },
    {
     "data": {
      "text/plain": [
       "6"
      ]
     },
     "execution_count": 9,
     "metadata": {},
     "output_type": "execute_result"
    }
   ],
   "source": [
    "        \n",
    "def sum_of_even(numbers_list):\n",
    "    # 3 marks\n",
    "    # TODO: write the functionality of the code where you are\n",
    "    # taking as an input a list of numbers\n",
    "    # returning the sum of even numbers in the list\n",
    "    # NOTE: YOU NEED TO HANDLE ERRORS OF GIVING LIST OF STRINGS OR/AND\n",
    "    #  STRINGS WITH NUMBERS by returning \"invalid\"\n",
    "    # sum_of_even([1,2,3,4,5,6]) = 12\n",
    "    sum = 0\n",
    "    \n",
    "    for num in numbers_list:\n",
    "        if num % 2 == 0:     #checking for even\n",
    "            sum += num\n",
    "    return sum #return sum of even numbers\n",
    "\n",
    "numbers_list= [] # initialized list\n",
    "\n",
    "# Now lets take the list of numbers as input and checking for validation for it should be number not string or a number with string\n",
    "while True:\n",
    "    try:\n",
    "        n= int(input(\"How many numbers you would like to enter: \"))\n",
    "        if n<=0:\n",
    "            raise ValueError(\"The number must be greater than zero.\") # we checking for positive numbers\n",
    "        break # or else it is valid for positive\n",
    "    except ValueError:\n",
    "        print(\"invalid\") # anything other than positive integer throw as \"invalid\"\n",
    "        \n",
    "        \n",
    "# For input\n",
    "for i in range(n):\n",
    "    while True:\n",
    "        try:\n",
    "            numbers = int(input(f\"Enter number {i+1}: \"))\n",
    "            numbers_list.append(numbers)  # appending the numbers to the list\n",
    "            break       #if anything is invalid then exit the loop\n",
    "        except ValueError:\n",
    "            print(\"invalid\") # anything other than positive integer throw as \"invalid\"\n",
    "\n",
    "sum_of_even(numbers_list)"
   ]
  },
  {
   "cell_type": "markdown",
   "metadata": {},
   "source": [
    "#### Question 5:"
   ]
  },
  {
   "cell_type": "code",
   "execution_count": 14,
   "metadata": {},
   "outputs": [
    {
     "data": {
      "text/plain": [
       "'o321leh'"
      ]
     },
     "execution_count": 14,
     "metadata": {},
     "output_type": "execute_result"
    }
   ],
   "source": [
    "def reverse_string(input_string):\n",
    "    reverse_string = input_string[::-1]\n",
    "    # 3 marks\n",
    "    # TODO: write the functionality of the code where you are\n",
    "    # taking as an input a string\n",
    "    # returns the reverse of the string\n",
    "    # reverse_string(\"hello\") = \"olleh\"\n",
    "    # NOTE: Numbers should be handled as strings ex: 123 returns \"321\"\n",
    "    return \"\"\n",
    "\n",
    "input_string = input(\"Enter the string: \")     \n",
    "#we don't need to check for numbers as string because python for default takes as any input as string \n",
    "\n",
    "reverse_string(input_string)\n"
   ]
  },
  {
   "cell_type": "markdown",
   "metadata": {},
   "source": [
    "#### Question 6:"
   ]
  },
  {
   "cell_type": "code",
   "execution_count": 10,
   "metadata": {},
   "outputs": [
    {
     "name": "stdout",
     "output_type": "stream",
     "text": [
      "\n",
      "\n",
      "invalid\n",
      "invalid\n",
      "  *\n",
      " ***\n",
      "*****\n",
      " ***\n",
      "  *\n",
      "\n"
     ]
    }
   ],
   "source": [
    "def diamond_string(length):\n",
    "    # 5 marks\n",
    "    # TODO: write the functionality of the code where you are\n",
    "    # taking as an input a POSITIVE ODD length\n",
    "    # saves in a string the diamond as follows:\n",
    "    # diamond_string(5)\n",
    "    #   *\n",
    "    #  ***\n",
    "    # *****\n",
    "    #  ***\n",
    "    #   *\n",
    "    # NOTE: The input must be positive odd, if not return empty string \"\"   \n",
    "    if length <=0 or length % 2 ==0:\n",
    "        return \"\" # invalid input gives empty string\n",
    "    \n",
    "    mid = length //2     #calculating  centre index because it will get used as space filling in the pattern\n",
    "    diamond = \"\"\n",
    "                                #taking an assumption for lenght = 9\n",
    "    for i in range(mid + 1):         #making upper part of diamond upto the number of length\n",
    "        gap = \" \" * (mid - i)       #for space where it will get reduced for every range\n",
    "        stars = \"*\" * (2 * i + 1)      #to display odd number of stars for symmetry\n",
    "        diamond += gap + stars + \"\\n\"   #appending to the empty string\n",
    "        \n",
    "    for i in range(mid - 1, -1, -1):    # similar loop function but starting middle length and go reverse\n",
    "        gap = \" \" * (mid - i)\n",
    "        stars = \"*\" * (2 * i + 1)\n",
    "        diamond += gap + stars + \"\\n\"\n",
    "    \n",
    "    return diamond\n",
    "\n",
    "# length = 9\n",
    "while True:\n",
    "    try:\n",
    "        n= int(input(\"How many numbers you would like to enter: \"))\n",
    "        if n<=0 or n%2 == 0:\n",
    "            print(\"\")# we checking for positive numbers\n",
    "        else:\n",
    "            print(diamond_string(n))# or else it is valid for positive\n",
    "            break\n",
    "    except ValueError:\n",
    "        print(\"invalid\") # anything other than positive integer throw as \"invalid\"\n",
    "          # prints:   *"
   ]
  },
  {
   "cell_type": "markdown",
   "metadata": {},
   "source": [
    "#### Question 7:"
   ]
  },
  {
   "cell_type": "code",
   "execution_count": 22,
   "metadata": {},
   "outputs": [
    {
     "name": "stdout",
     "output_type": "stream",
     "text": [
      "5\n"
     ]
    }
   ],
   "source": [
    "\n",
    "\n",
    "def longest_consecutive_subarray(number_array):\n",
    "    # 8 marks\n",
    "    # TODO: write the functionality of the code where you are\n",
    "    # taking as an input an array of REAL NUMBERS\n",
    "    # return the length of the longest subarray that could be\n",
    "    # built using the input\n",
    "    # longest_consecutive_subarray([100, 4, 200, 1, 3, 2]) = 4\n",
    "    # Function should return 4 which represents in this case\n",
    "    # the longest_consecutive_subarray that could be built [1,2,3,4]\n",
    "    # You can't use Built in Sorting!\n",
    "    # Note: - If any error exists in the input, \"error\" should be returned\n",
    "    #       - The difference between any 2 consecuetive numbers is 1    \n",
    "    set_of_num = set(number_array)      #converting into a set since it will take a repeated value willnbe stored once and make a set of unique elements\n",
    "    max_l = 0       # t track the length of consecutive array\n",
    "    \n",
    "    for num in set_of_num:      \n",
    "        if num - 1 not in set_of_num:       # looping through every element \n",
    "            present_num = num\n",
    "            count = 1\n",
    "            \n",
    "            while present_num + 1 in set_of_num:\n",
    "                present_num += 1\n",
    "                count += 1\n",
    "                \n",
    "            max_l = max(max_l, count)\n",
    "    \n",
    "    return max_l\n",
    "\n",
    "input_arr = input(\"enter array and separate it by space: \")\n",
    "\n",
    "try:\n",
    "    actual_arr_n_space = [float(num) for num in input_arr.split()]\n",
    "    result = longest_consecutive_subarray(actual_arr_n_space)\n",
    "    print(result)\n",
    "except ValueError:\n",
    "    print(\"error\")\n",
    "    \n"
   ]
  },
  {
   "cell_type": "markdown",
   "metadata": {},
   "source": [
    "#### Question 8 (Challenging):"
   ]
  },
  {
   "cell_type": "code",
   "execution_count": 100,
   "metadata": {},
   "outputs": [
    {
     "name": "stdout",
     "output_type": "stream",
     "text": [
      "catsandog\n",
      "{'sand', 'cats', 'dog'}\n",
      "False\n"
     ]
    }
   ],
   "source": [
    "def can_be_segmented(input_string, word_dict):\n",
    "    # 15 marks\n",
    "    # TODO: Write the functionality of the code where you\n",
    "    # are given as an input a string and a word_dict\n",
    "    # Your target is to return True, if input_string can be segmented\n",
    "    # (broken-down) into a sequence of one or more dictionary words\n",
    "    # otherwise return False\n",
    "    # Sample Input: can_be_segmented(\"applepenapple\", {'apple','pen'}) ==> True\n",
    "    # Sample Input: can_be_segmented(\"catsandog\", {'cats','dog','sand','and','cat'}) ==> False\n",
    "    # Hint: You can start by checking which prefix exist in the dictionary, and call the same function recursively\n",
    "    # on the remaining string.\n",
    "    \n",
    "    for x in word_dict :\n",
    "        if(input_string.find(x)>=0):\n",
    "            input_string = input_string.replace(x, '')\n",
    "        else:\n",
    "            return False\n",
    "    return True\n",
    "\n",
    "input_string = input(\"input a string\")\n",
    "word_dic_input = input(\"words to be compared in dictionary and separate it by spaces: \")\n",
    "word_dict = set(word_dic_input.split())\n",
    "\n",
    "print(input_string)\n",
    "print(word_dict)\n",
    "print(can_be_segmented(input_string, word_dict))\n"
   ]
  },
  {
   "cell_type": "markdown",
   "metadata": {},
   "source": [
    "### Part 2: Numpy Basics: \n",
    "- In this Part of the assignment, you are <b>ONLY ALLOWED</b> to use Numpy and its functions. \n",
    "- You are not expected to use Loops."
   ]
  },
  {
   "cell_type": "code",
   "execution_count": 24,
   "metadata": {},
   "outputs": [],
   "source": [
    "import numpy as np"
   ]
  },
  {
   "cell_type": "markdown",
   "metadata": {},
   "source": [
    "#### Question 9:"
   ]
  },
  {
   "cell_type": "code",
   "execution_count": 99,
   "metadata": {},
   "outputs": [
    {
     "name": "stdout",
     "output_type": "stream",
     "text": [
      "23 34 22 0 13 4 4 \n",
      "False\n"
     ]
    }
   ],
   "source": [
    "def no_zeros(array_input):\n",
    "    # 3 marks\n",
    "    ## TODO: This function should return True if \n",
    "    ## numpy array arrayInput does not contain any zero\n",
    "    ## and will return False otherwise.\n",
    "    ## Implement this function using ONLY numpy methods\n",
    "    ## Sample input: np.array([1,2,3,4,5,6,0]) Sample Output: False\n",
    "    ## Sample input: np.array([1,2,3,4,5,6]) Sample Output: True\n",
    "  return not np.any(array_input == 0)\n",
    "\n",
    "\n",
    "my_input = input(\"Enter number by space: \")\n",
    "\n",
    "array_input = np.array([int(x) for x in my_input.split()])\n",
    "print(my_input)\n",
    "print(no_zeros(array_input))\n"
   ]
  },
  {
   "cell_type": "markdown",
   "metadata": {},
   "source": [
    "#### Question 10:"
   ]
  },
  {
   "cell_type": "code",
   "execution_count": 70,
   "metadata": {},
   "outputs": [
    {
     "name": "stdout",
     "output_type": "stream",
     "text": [
      "[[1 1 1]\n",
      " [1 0 1]\n",
      " [1 1 1]]\n"
     ]
    }
   ],
   "source": [
    "def two_dimensions(n):\n",
    "    # 7 marks\n",
    "    ## TODO: This function should create a 2d Array of shape n*n for any positive number\n",
    "    ## Where the borders of the array are ones\n",
    "    ## all other elements are zero\n",
    "    ## Implement this function using ONLY numpy methods\n",
    "    ## Sample input 3\n",
    "    ## sample output [[1,1,1],[1,0,1],[1,1,1]]\n",
    "    array = np.ones((n,n), dtype= int)\n",
    "    array[1:-1,1:-1 ]= 0        #selecting 1st row and column , last row & column and setting as \"0\"\n",
    "    return array\n",
    "\n",
    "n =  int(input(\"Enter number of dimension: \"))\n",
    "print(two_dimensions(n))\n",
    "    "
   ]
  },
  {
   "cell_type": "markdown",
   "metadata": {},
   "source": [
    "#### Question 11:"
   ]
  },
  {
   "cell_type": "code",
   "execution_count": 96,
   "metadata": {},
   "outputs": [
    {
     "name": "stdout",
     "output_type": "stream",
     "text": [
      "[[7 1 8]\n",
      " [5 4 3]\n",
      " [6 9 2]]\n"
     ]
    }
   ],
   "source": [
    "def random_generation(n,min,max):\n",
    "    # 5 marks\n",
    "    # TODO: Write a function that takes as an input\n",
    "    # Dimension of 2d Array n, min and max\n",
    "    # Generate an n*n array with random numbers between\n",
    "    # min and max inclusive\n",
    "    # Such that no element is duplicated\n",
    "    # return numpy array\n",
    "    # Implement this function using ONLY numpy methods\n",
    "    # Sample Input: random_generation(3,0,12) --> [[4,2,6],[1,5,11],[10, 3,9]]\n",
    "    num = np.random.choice(np.arange(min,max +1), (n*n), replace= False)   \n",
    "    return num.reshape((n,n))\n",
    "try:\n",
    "    n = int(input(\"enter shape of array: \"))\n",
    "    min = int(input(\"enter its minimum value: \"))\n",
    "    max = int(input(\"enter its maximum value: \"))\n",
    "\n",
    "    if (max-min+1)< (n*n):\n",
    "        print(\"Error: Not enough unique values to fill the array\")\n",
    "    else:\n",
    "        arr = random_generation(n,min,max)\n",
    "        print(arr)\n",
    "        \n",
    "except ValueError:\n",
    "    print(\"Invalid\")\n",
    "    \n"
   ]
  },
  {
   "cell_type": "markdown",
   "metadata": {},
   "source": [
    "#### Question 12:"
   ]
  },
  {
   "cell_type": "code",
   "execution_count": 95,
   "metadata": {},
   "outputs": [
    {
     "name": "stdout",
     "output_type": "stream",
     "text": [
      "[[1 2 3]\n",
      " [4 5 6]\n",
      " [7 8 9]]\n",
      "40\n"
     ]
    }
   ],
   "source": [
    "def matrix_border_sum(matrix):\n",
    "    # 8 marks\n",
    "    # TODO: Write a function that takes as an input a matrix\n",
    "    # and return the sum of all elements in the borders\n",
    "    # Implement this function using ONLY numpy methods\n",
    "    # Sample Input: np.array([[1,2,3],\n",
    "    #                         [4,5,6],\n",
    "    #                         [7,8,9]])\n",
    "    # Output: matrix_border_sum(matrix) =  1+2+3+4+6+7+8+9 = 40\n",
    "    # if not isinstance(matrix, np.ndarray):\n",
    "    #     raise ValueError(\"Input should be a NumPy array.\")\n",
    "    \n",
    "    top = matrix[0, :]\n",
    "    bottom = matrix[-1, : ]\n",
    "    left = matrix[1:-1, 0 ]\n",
    "    right = matrix[1:-1, -1]\n",
    "    \n",
    "    border= np.concatenate((top, bottom, left, right))\n",
    "    \n",
    "    return np.sum(border)\n",
    "\n",
    "try:    \n",
    "    matrix = input(\"Enter matrix in a list:\")\n",
    "    matrix = np.array(eval(matrix))         # convert the given list in the context of arrays\n",
    "    print(matrix)\n",
    "    result= matrix_border_sum(matrix)\n",
    "    print(result)\n",
    "except ValueError:\n",
    "    print(\"Error:\")"
   ]
  },
  {
   "cell_type": "markdown",
   "metadata": {},
   "source": [
    "### Part 3: Pandas"
   ]
  },
  {
   "cell_type": "code",
   "execution_count": 88,
   "metadata": {},
   "outputs": [],
   "source": [
    "import pandas as pd"
   ]
  },
  {
   "cell_type": "markdown",
   "metadata": {},
   "source": [
    "#### Question 13 (12 marks): \n",
    "- Using RegularSeasonCompactResults.csv and Teams.csv apply the following functionalities"
   ]
  },
  {
   "cell_type": "code",
   "execution_count": 90,
   "metadata": {},
   "outputs": [
    {
     "name": "stdout",
     "output_type": "stream",
     "text": [
      "{0}\n"
     ]
    }
   ],
   "source": [
    "# Using RegularSeasonCompactResults.csv\n",
    "# 1- Create a filter to show if there are any draw matches\n",
    "# 2- Apply the filter to the dataframe\n",
    "# 3- SHOW/PRINT the dataframe length or count (4 marks)\n",
    "## TODO: Your code should be here\n",
    "season = pd.read_csv(\"./RegularSeasonCompactResults.csv\")\n",
    "\n",
    "draw = season[\"Wscore\"] == season[\"Lscore\"]\n",
    "print({len(season[draw])})"
   ]
  },
  {
   "cell_type": "code",
   "execution_count": 92,
   "metadata": {},
   "outputs": [
    {
     "name": "stdout",
     "output_type": "stream",
     "text": [
      "        Season  Daynum  Wteam  Wscore  Lteam  Lscore Wloc  Numot\n",
      "124150    2013       9   1320      84   1405      81    H      1\n",
      "124298    2013      12   1320      72   1315      47    H      0\n",
      "124936    2013      26   1320      72   1454      61    H      0\n",
      "125088    2013      30   1320      76   1294      59    H      0\n",
      "125198    2013      33   1320      82   1206      77    A      1\n",
      "125651    2013      47   1320      82   1388      75    H      0\n",
      "126115    2013      61   1320      70   1229      60    A      0\n",
      "126433    2013      68   1320      84   1133      53    H      0\n",
      "126825    2013      76   1320      85   1179      55    H      0\n",
      "126897    2013      79   1320      58   1356      45    H      0\n",
      "127409    2013      89   1320      57   1455      52    H      0\n",
      "127499    2013      92   1320      48   1283      37    H      0\n",
      "127786    2013      97   1320      68   1133      65    A      0\n",
      "127862    2013     100   1320      61   1166      54    H      0\n",
      "128044    2013     103   1320      71   1179      64    A      0\n",
      "128161    2013     106   1320      69   1283      63    A      0\n",
      "128674    2013     117   1320      80   1229      72    H      0\n"
     ]
    }
   ],
   "source": [
    "# Using RegularSeasonCompactResults.csv\n",
    "# 1- Create a filter showing the entries where the winningteamID= 1400- (last two digits of your id)\n",
    "# 2- Create another filter for the season of 2013\n",
    "# 3- Apply the filter to the dataframe\n",
    "# 4- Show the resulted dataframe (4 marks)\n",
    "# (Example: IF your id is 8000021, the winning team id = 1400-21= 1379)\n",
    "# TODO: Your code should be here\n",
    "\n",
    "winningteamID = season[\"Wteam\"] == (1400-80)\n",
    "season_2013 = season[\"Season\"] == 2013\n",
    "season_filtered = season[(winningteamID) & (season_2013)]\n",
    "print(season_filtered)"
   ]
  },
  {
   "cell_type": "code",
   "execution_count": 94,
   "metadata": {},
   "outputs": [
    {
     "data": {
      "text/html": [
       "<div>\n",
       "<style scoped>\n",
       "    .dataframe tbody tr th:only-of-type {\n",
       "        vertical-align: middle;\n",
       "    }\n",
       "\n",
       "    .dataframe tbody tr th {\n",
       "        vertical-align: top;\n",
       "    }\n",
       "\n",
       "    .dataframe thead th {\n",
       "        text-align: right;\n",
       "    }\n",
       "</style>\n",
       "<table border=\"1\" class=\"dataframe\">\n",
       "  <thead>\n",
       "    <tr style=\"text-align: right;\">\n",
       "      <th></th>\n",
       "      <th>Season</th>\n",
       "      <th>Daynum</th>\n",
       "      <th>Wteam</th>\n",
       "      <th>Wscore</th>\n",
       "      <th>Lteam</th>\n",
       "      <th>Lscore</th>\n",
       "      <th>Wloc</th>\n",
       "      <th>Numot</th>\n",
       "      <th>Team_Id</th>\n",
       "      <th>Team_Name</th>\n",
       "    </tr>\n",
       "  </thead>\n",
       "  <tbody>\n",
       "    <tr>\n",
       "      <th>0</th>\n",
       "      <td>1985</td>\n",
       "      <td>20</td>\n",
       "      <td>1228</td>\n",
       "      <td>81</td>\n",
       "      <td>1328</td>\n",
       "      <td>64</td>\n",
       "      <td>N</td>\n",
       "      <td>0</td>\n",
       "      <td>1228</td>\n",
       "      <td>Illinois</td>\n",
       "    </tr>\n",
       "    <tr>\n",
       "      <th>1</th>\n",
       "      <td>1985</td>\n",
       "      <td>25</td>\n",
       "      <td>1106</td>\n",
       "      <td>77</td>\n",
       "      <td>1354</td>\n",
       "      <td>70</td>\n",
       "      <td>H</td>\n",
       "      <td>0</td>\n",
       "      <td>1106</td>\n",
       "      <td>Alabama St</td>\n",
       "    </tr>\n",
       "    <tr>\n",
       "      <th>2</th>\n",
       "      <td>1985</td>\n",
       "      <td>25</td>\n",
       "      <td>1112</td>\n",
       "      <td>63</td>\n",
       "      <td>1223</td>\n",
       "      <td>56</td>\n",
       "      <td>H</td>\n",
       "      <td>0</td>\n",
       "      <td>1112</td>\n",
       "      <td>Arizona</td>\n",
       "    </tr>\n",
       "    <tr>\n",
       "      <th>3</th>\n",
       "      <td>1985</td>\n",
       "      <td>25</td>\n",
       "      <td>1165</td>\n",
       "      <td>70</td>\n",
       "      <td>1432</td>\n",
       "      <td>54</td>\n",
       "      <td>H</td>\n",
       "      <td>0</td>\n",
       "      <td>1165</td>\n",
       "      <td>Cornell</td>\n",
       "    </tr>\n",
       "    <tr>\n",
       "      <th>4</th>\n",
       "      <td>1985</td>\n",
       "      <td>25</td>\n",
       "      <td>1192</td>\n",
       "      <td>86</td>\n",
       "      <td>1447</td>\n",
       "      <td>74</td>\n",
       "      <td>H</td>\n",
       "      <td>0</td>\n",
       "      <td>1192</td>\n",
       "      <td>F Dickinson</td>\n",
       "    </tr>\n",
       "    <tr>\n",
       "      <th>...</th>\n",
       "      <td>...</td>\n",
       "      <td>...</td>\n",
       "      <td>...</td>\n",
       "      <td>...</td>\n",
       "      <td>...</td>\n",
       "      <td>...</td>\n",
       "      <td>...</td>\n",
       "      <td>...</td>\n",
       "      <td>...</td>\n",
       "      <td>...</td>\n",
       "    </tr>\n",
       "    <tr>\n",
       "      <th>145284</th>\n",
       "      <td>2016</td>\n",
       "      <td>132</td>\n",
       "      <td>1114</td>\n",
       "      <td>70</td>\n",
       "      <td>1419</td>\n",
       "      <td>50</td>\n",
       "      <td>N</td>\n",
       "      <td>0</td>\n",
       "      <td>1114</td>\n",
       "      <td>Ark Little Rock</td>\n",
       "    </tr>\n",
       "    <tr>\n",
       "      <th>145285</th>\n",
       "      <td>2016</td>\n",
       "      <td>132</td>\n",
       "      <td>1163</td>\n",
       "      <td>72</td>\n",
       "      <td>1272</td>\n",
       "      <td>58</td>\n",
       "      <td>N</td>\n",
       "      <td>0</td>\n",
       "      <td>1163</td>\n",
       "      <td>Connecticut</td>\n",
       "    </tr>\n",
       "    <tr>\n",
       "      <th>145286</th>\n",
       "      <td>2016</td>\n",
       "      <td>132</td>\n",
       "      <td>1246</td>\n",
       "      <td>82</td>\n",
       "      <td>1401</td>\n",
       "      <td>77</td>\n",
       "      <td>N</td>\n",
       "      <td>1</td>\n",
       "      <td>1246</td>\n",
       "      <td>Kentucky</td>\n",
       "    </tr>\n",
       "    <tr>\n",
       "      <th>145287</th>\n",
       "      <td>2016</td>\n",
       "      <td>132</td>\n",
       "      <td>1277</td>\n",
       "      <td>66</td>\n",
       "      <td>1345</td>\n",
       "      <td>62</td>\n",
       "      <td>N</td>\n",
       "      <td>0</td>\n",
       "      <td>1277</td>\n",
       "      <td>Michigan St</td>\n",
       "    </tr>\n",
       "    <tr>\n",
       "      <th>145288</th>\n",
       "      <td>2016</td>\n",
       "      <td>132</td>\n",
       "      <td>1386</td>\n",
       "      <td>87</td>\n",
       "      <td>1433</td>\n",
       "      <td>74</td>\n",
       "      <td>N</td>\n",
       "      <td>0</td>\n",
       "      <td>1386</td>\n",
       "      <td>St Joseph's PA</td>\n",
       "    </tr>\n",
       "  </tbody>\n",
       "</table>\n",
       "<p>145289 rows × 10 columns</p>\n",
       "</div>"
      ],
      "text/plain": [
       "        Season  Daynum  Wteam  Wscore  Lteam  Lscore Wloc  Numot  Team_Id  \\\n",
       "0         1985      20   1228      81   1328      64    N      0     1228   \n",
       "1         1985      25   1106      77   1354      70    H      0     1106   \n",
       "2         1985      25   1112      63   1223      56    H      0     1112   \n",
       "3         1985      25   1165      70   1432      54    H      0     1165   \n",
       "4         1985      25   1192      86   1447      74    H      0     1192   \n",
       "...        ...     ...    ...     ...    ...     ...  ...    ...      ...   \n",
       "145284    2016     132   1114      70   1419      50    N      0     1114   \n",
       "145285    2016     132   1163      72   1272      58    N      0     1163   \n",
       "145286    2016     132   1246      82   1401      77    N      1     1246   \n",
       "145287    2016     132   1277      66   1345      62    N      0     1277   \n",
       "145288    2016     132   1386      87   1433      74    N      0     1386   \n",
       "\n",
       "              Team_Name  \n",
       "0              Illinois  \n",
       "1            Alabama St  \n",
       "2               Arizona  \n",
       "3               Cornell  \n",
       "4           F Dickinson  \n",
       "...                 ...  \n",
       "145284  Ark Little Rock  \n",
       "145285      Connecticut  \n",
       "145286         Kentucky  \n",
       "145287      Michigan St  \n",
       "145288   St Joseph's PA  \n",
       "\n",
       "[145289 rows x 10 columns]"
      ]
     },
     "execution_count": 94,
     "metadata": {},
     "output_type": "execute_result"
    }
   ],
   "source": [
    "# Using RegularSeasonCompactResults.csv & Teams.csv\n",
    "# 1- Load and merge both dataframes\n",
    "# 2- Where the merge is on WinningTeamId (RegularSeasonCompactResults) and TeamId (Teams.csv)\n",
    "# 3- Name the dataframe: DFCombined\n",
    "# 4- Show the top 3 rows (4 marks)\n",
    "# TODO: Your code should be here\n",
    "team = pd.read_csv(\"./Teams.csv\")\n",
    "merge = pd.merge(season, team, left_on=\"Wteam\", right_on=\"Team_Id\", how='inner')\n",
    "merge\n"
   ]
  },
  {
   "cell_type": "code",
   "execution_count": null,
   "metadata": {},
   "outputs": [],
   "source": []
  }
 ],
 "metadata": {
  "kernelspec": {
   "display_name": "CSCN8010_classic_ml",
   "language": "python",
   "name": "cscn8010_classic_ml"
  },
  "language_info": {
   "codemirror_mode": {
    "name": "ipython",
    "version": 3
   },
   "file_extension": ".py",
   "mimetype": "text/x-python",
   "name": "python",
   "nbconvert_exporter": "python",
   "pygments_lexer": "ipython3",
   "version": "3.11.5"
  }
 },
 "nbformat": 4,
 "nbformat_minor": 2
}
