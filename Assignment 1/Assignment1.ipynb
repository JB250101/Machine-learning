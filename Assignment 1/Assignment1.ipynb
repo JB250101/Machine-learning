{
 "cells": [
  {
   "cell_type": "markdown",
   "metadata": {},
   "source": [
    "## PROG8245 Assignment 1: (Total Marks 100)\n",
    "## Start on 16th of September- Due on 27th of September"
   ]
  },
  {
   "cell_type": "markdown",
   "metadata": {},
   "source": [
    "- TODO: write your name and ID below\n",
    "- Name: Jaiv Burman\n",
    "- ID: 8930180\n",
    "- Kindly note that this assignment is to be solved by yourself, without the use of AI and chatbots.\n",
    "- If chatbot usage is detected, the penalty that is discussed in Week 1 slides will apply.\n",
    "- Each code block will have a Todo comment which explains the functionality, expected input, and expected output of the function.\n",
    "- There are 10 marks in this assignment for assuring that the code couldn't be broken (no errors can be thrown, please consider mathematical and logical errors)\n",
    "- There are 10 marks in this assignment for commenting and code readability.\n"
   ]
  },
  {
   "cell_type": "markdown",
   "metadata": {},
   "source": [
    "### Part 1: Python Basics"
   ]
  },
  {
   "cell_type": "markdown",
   "metadata": {},
   "source": [
    "#### Question 1:"
   ]
  },
  {
   "cell_type": "code",
   "execution_count": 4,
   "metadata": {},
   "outputs": [
    {
     "name": "stdout",
     "output_type": "stream",
     "text": [
      "The price of the item plus the applicable taxes is: 87.0\n"
     ]
    }
   ],
   "source": [
    "price = float(input(\"Enter the price of an item: \"))\n",
    "tax = 0.13 # which is 13%\n",
    "def total_price(price, tax):\n",
    "    # 3 marks\n",
    "    # TODO: write the functionality of the code where\n",
    "    #  you are taking as an input a price of an item and the\n",
    "    #  tax in decimal (13% tax will be given as 0.13),\n",
    "    #  you should return the taxedPrice of that item\n",
    "    #  which will be the total price after tax a customer must pay\n",
    "    # (The price of the item plus the applicable taxes)\n",
    "    taxedPrice = price - (price * tax)\n",
    "    return taxedPrice\n",
    "\n",
    "print(f\"The price of the item plus the applicable taxes is: {total_price(price, tax)}\")\n"
   ]
  },
  {
   "cell_type": "markdown",
   "metadata": {},
   "source": [
    "#### Question 2:"
   ]
  },
  {
   "cell_type": "code",
   "execution_count": 5,
   "metadata": {},
   "outputs": [
    {
     "name": "stdout",
     "output_type": "stream",
     "text": [
      "for 4 & 2 as 4/2:\n"
     ]
    },
    {
     "data": {
      "text/plain": [
       "True"
      ]
     },
     "execution_count": 5,
     "metadata": {},
     "output_type": "execute_result"
    }
   ],
   "source": [
    "def divisible_by(x, y):\n",
    "    # 3 marks\n",
    "    # TODO: write a function that returns True if x is divisible by y,\n",
    "    #  and returns False OTHERWISE (all other cases).\n",
    "    if y==0:\n",
    "        return False\n",
    "    \n",
    "    return x%y ==0\n",
    "\n",
    "x= int(input(\" Enter the 1st number: \"))\n",
    "y= int(input(\" Enter the 2nd number: \"))\n",
    "\n",
    "print(f\"for {x} & {y} as {x}/{y}:\")\n",
    "divisible_by(x,y)"
   ]
  },
  {
   "cell_type": "markdown",
   "metadata": {},
   "source": [
    "#### Question 3:"
   ]
  },
  {
   "cell_type": "code",
   "execution_count": 10,
   "metadata": {},
   "outputs": [
    {
     "data": {
      "text/plain": [
       "'invalid'"
      ]
     },
     "execution_count": 10,
     "metadata": {},
     "output_type": "execute_result"
    }
   ],
   "source": [
    "def basic_calculator(x, y, operator):\n",
    "    try:\n",
    "        if operator == '+':\n",
    "            result = x + y\n",
    "        elif operator == '-':\n",
    "            result = x - y\n",
    "        elif operator == '*':\n",
    "            result = x * y\n",
    "        elif operator == '/':\n",
    "            if y == 0:\n",
    "                return \"error\"\n",
    "            result = x / y\n",
    "        elif operator == '%':\n",
    "            if y == 0:\n",
    "                return \"error\"\n",
    "            result = x % y\n",
    "        elif operator == '//':\n",
    "            if y == 0:\n",
    "                return \"error\"\n",
    "            result = x // y\n",
    "        else:\n",
    "            return \"invalid\"\n",
    "        \n",
    "        return result\n",
    "    except Exception as e:\n",
    "        return \"error\"\n",
    "x= int(input(\" Enter the 1st number: \"))\n",
    "y= int(input(\" Enter the 2nd number: \"))\n",
    "operator  = input(\" Enter the operator (+, -, *, /, %, //): \")    \n",
    "\n",
    "basic_calculator(x,y,operator)\n",
    "\n",
    "    # 5 marks\n",
    "    # TODO: write the functionality of the code where you are\n",
    "    #  coding a basic calculator that performs basic addition \"+\", subtraction \"-\",\n",
    "    #  multiplication \"*\", division \"/\", modulus \"%\" and integer division \"//\"\n",
    "    #  the function must apply the operator to x and y for example:\n",
    "    #  basicCalculator(10, 15, \"*\") should apply 10*15 and save it to the result variable\n",
    "    #  NOTE: YOU NEED TO HANDLE DIVISION ERRORS BY RETURNING A STRING WITH THE WORD \"error\"\n",
    "    #  NOTE: YOU NEED TO HANDLE AN INVALID OPERATOR BY RETURNING A STRING HAVING THE WORD \"invalid\""
   ]
  },
  {
   "cell_type": "markdown",
   "metadata": {},
   "source": [
    "#### Question 4:"
   ]
  },
  {
   "cell_type": "code",
   "execution_count": 5,
   "metadata": {},
   "outputs": [],
   "source": [
    "def sum_of_even(numbers_list):\n",
    "    # 3 marks\n",
    "    # TODO: write the functionality of the code where you are\n",
    "    # taking as an input a list of numbers\n",
    "    # returning the sum of even numbers in the list\n",
    "    # NOTE: YOU NEED TO HANDLE ERRORS OF GIVING LIST OF STRINGS OR/AND\n",
    "    #  STRINGS WITH NUMBERS by returning \"invalid\"\n",
    "    # sum_of_even([1,2,3,4,5,6]) = 12\n",
    "    return 0"
   ]
  },
  {
   "cell_type": "markdown",
   "metadata": {},
   "source": [
    "#### Question 5:"
   ]
  },
  {
   "cell_type": "code",
   "execution_count": 6,
   "metadata": {},
   "outputs": [],
   "source": [
    "def reverse_string(input_string):\n",
    "    # 3 marks\n",
    "    # TODO: write the functionality of the code where you are\n",
    "    # taking as an input a string\n",
    "    # returns the reverse of the string\n",
    "    # reverse_string(\"hello\") = \"olleh\"\n",
    "    # NOTE: Numbers should be handled as strings ex: 123 returns \"321\"\n",
    "    return \"\""
   ]
  },
  {
   "cell_type": "markdown",
   "metadata": {},
   "source": [
    "#### Question 6:"
   ]
  },
  {
   "cell_type": "code",
   "execution_count": 7,
   "metadata": {},
   "outputs": [],
   "source": [
    "def diamond_string(length):\n",
    "    # 5 marks\n",
    "    # TODO: write the functionality of the code where you are\n",
    "    # taking as an input a POSITIVE ODD length\n",
    "    # saves in a string the diamond as follows:\n",
    "    # diamond_string(5)\n",
    "    #   *\n",
    "    #  ***\n",
    "    # *****\n",
    "    #  ***\n",
    "    #   *\n",
    "    # NOTE: The input must be positive odd, if not return empty string \"\"   \n",
    "    return \"\"\n"
   ]
  },
  {
   "cell_type": "markdown",
   "metadata": {},
   "source": [
    "#### Question 7:"
   ]
  },
  {
   "cell_type": "code",
   "execution_count": 8,
   "metadata": {},
   "outputs": [],
   "source": [
    "def longest_consecutive_subarray(number_array):\n",
    "    # 8 marks\n",
    "    # TODO: write the functionality of the code where you are\n",
    "    # taking as an input an array of REAL NUMBERS\n",
    "    # return the length of the longest subarray that could be\n",
    "    # built using the input\n",
    "    # longest_consecutive_subarray([100, 4, 200, 1, 3, 2]) = 4\n",
    "    # Function should return 4 which represents in this case\n",
    "    # the longest_consecutive_subarray that could be built [1,2,3,4]\n",
    "    # You can't use Built in Sorting!\n",
    "    # Note: - If any error exists in the input, \"error\" should be returned\n",
    "    #       - The difference between any 2 consecuetive numbers is 1.\n",
    "    return 0"
   ]
  },
  {
   "cell_type": "markdown",
   "metadata": {},
   "source": [
    "#### Question 8 (Challenging):"
   ]
  },
  {
   "cell_type": "code",
   "execution_count": 9,
   "metadata": {},
   "outputs": [],
   "source": [
    "def can_be_segmented(input_string, word_dict):\n",
    "    # 15 marks\n",
    "    # TODO: Write the functionality of the code where you\n",
    "    # are given as an input a string and a word_dict\n",
    "    # Your target is to return True, if input_string can be segmented\n",
    "    # (broken-down) into a sequence of one or more dictionary words\n",
    "    # otherwise return False\n",
    "    # Sample Input: can_be_segmented(\"applepenapple\", {'apple','pen'}) ==> True\n",
    "    # Sample Input: can_be_segmented(\"catsandog\", {'cats','dog','sand','and','cat'}) ==> False\n",
    "    # Hint: You can start by checking which prefix exist in the dictionary, and call the same function recursively\n",
    "    # on the remaining string.\n",
    "    return False"
   ]
  },
  {
   "cell_type": "markdown",
   "metadata": {},
   "source": [
    "### Part 2: Numpy Basics: \n",
    "- In this Part of the assignment, you are <b>ONLY ALLOWED</b> to use Numpy and its functions. \n",
    "- You are not expected to use Loops."
   ]
  },
  {
   "cell_type": "code",
   "execution_count": 10,
   "metadata": {},
   "outputs": [],
   "source": [
    "import numpy as np"
   ]
  },
  {
   "cell_type": "markdown",
   "metadata": {},
   "source": [
    "#### Question 9:"
   ]
  },
  {
   "cell_type": "code",
   "execution_count": 11,
   "metadata": {},
   "outputs": [],
   "source": [
    "def no_zeros(array_input):\n",
    "    # 3 marks\n",
    "    ## TODO: This function should return True if \n",
    "    ## numpy array arrayInput does not contain any zero\n",
    "    ## and will return False otherwise.\n",
    "    ## Implement this function using ONLY numpy methods\n",
    "    ## Sample input: np.array([1,2,3,4,5,6,0]) Sample Output: False\n",
    "    ## Sample input: np.array([1,2,3,4,5,6]) Sample Output: True\n",
    "\n",
    "    return False\n"
   ]
  },
  {
   "cell_type": "markdown",
   "metadata": {},
   "source": [
    "#### Question 10:"
   ]
  },
  {
   "cell_type": "code",
   "execution_count": 12,
   "metadata": {},
   "outputs": [],
   "source": [
    "def two_dimensions(n):\n",
    "    # 7 marks\n",
    "    ## TODO: This function should create a 2d Array of shape n*n for any positive number\n",
    "    ## Where the borders of the array are ones\n",
    "    ## all other elements are zero\n",
    "    ## Implement this function using ONLY numpy methods\n",
    "    ## Sample input 3\n",
    "    ## sample output [[1,1,1],[1,0,1],[1,1,1]]\n",
    "    return np.array({})\n",
    "\n",
    "    "
   ]
  },
  {
   "cell_type": "markdown",
   "metadata": {},
   "source": [
    "#### Question 11:"
   ]
  },
  {
   "cell_type": "code",
   "execution_count": 13,
   "metadata": {},
   "outputs": [],
   "source": [
    "def random_generation(n,min,max):\n",
    "    # 5 marks\n",
    "    # TODO: Write a function that takes as an input\n",
    "    # Dimension of 2d Array n, min and max\n",
    "    # Generate an n*n array with random numbers between\n",
    "    # min and max inclusive\n",
    "    # Such that no element is duplicated\n",
    "    # return numpy array\n",
    "    # Implement this function using ONLY numpy methods\n",
    "    # Sample Input: random_generation(3,0,12) --> [[4,2,6],[1,5,11],[10, 3,9]]\n",
    "    return np.array({})"
   ]
  },
  {
   "cell_type": "markdown",
   "metadata": {},
   "source": [
    "#### Question 12:"
   ]
  },
  {
   "cell_type": "code",
   "execution_count": 14,
   "metadata": {},
   "outputs": [],
   "source": [
    "def matrix_border_sum(matrix):\n",
    "    # 8 marks\n",
    "    # TODO: Write a function that takes as an input a matrix\n",
    "    # and return the sum of all elements in the borders\n",
    "    # Implement this function using ONLY numpy methods\n",
    "    # Sample Input: np.array([[1,2,3],\n",
    "    #                         [4,5,6],\n",
    "    #                         [7,8,9]])\n",
    "    # Output: matrix_border_sum(matrix) =  1+2+3+4+6+7+8+9 = 40\n",
    "    return 0"
   ]
  },
  {
   "cell_type": "markdown",
   "metadata": {},
   "source": [
    "### Part 3: Pandas"
   ]
  },
  {
   "cell_type": "code",
   "execution_count": 15,
   "metadata": {},
   "outputs": [],
   "source": [
    "import pandas as pd"
   ]
  },
  {
   "cell_type": "markdown",
   "metadata": {},
   "source": [
    "#### Question 13 (12 marks): \n",
    "- Using RegularSeasonCompactResults.csv and Teams.csv apply the following functionalities"
   ]
  },
  {
   "cell_type": "code",
   "execution_count": 16,
   "metadata": {},
   "outputs": [],
   "source": [
    "# Using RegularSeasonCompactResults.csv\n",
    "# 1- Create a filter to show if there are any draw matches\n",
    "# 2- Apply the filter to the dataframe\n",
    "# 3- SHOW/PRINT the dataframe length or count (4 marks)\n",
    "## TODO: Your code should be here"
   ]
  },
  {
   "cell_type": "code",
   "execution_count": 17,
   "metadata": {},
   "outputs": [],
   "source": [
    "# Using RegularSeasonCompactResults.csv\n",
    "# 1- Create a filter showing the entries where the winningteamID= 1400- (last two digits of your id)\n",
    "# 2- Create another filter for the season of 2013\n",
    "# 3- Apply the filter to the dataframe\n",
    "# 4- Show the resulted dataframe (4 marks)\n",
    "# (Example: IF your id is 8000021, the winning team id = 1400-21= 1379)\n",
    "# TODO: Your code should be here"
   ]
  },
  {
   "cell_type": "code",
   "execution_count": 18,
   "metadata": {},
   "outputs": [],
   "source": [
    "# Using RegularSeasonCompactResults.csv & Teams.csv\n",
    "# 1- Load and merge both dataframes\n",
    "# 2- Where the merge is on WinningTeamId (RegularSeasonCompactResults) and TeamId (Teams.csv)\n",
    "# 3- Name the dataframe: DFCombined\n",
    "# 4- Show the top 3 rows (4 marks)\n",
    "# TODO: Your code should be here"
   ]
  }
 ],
 "metadata": {
  "kernelspec": {
   "display_name": "Python 3",
   "language": "python",
   "name": "python3"
  },
  "language_info": {
   "codemirror_mode": {
    "name": "ipython",
    "version": 3
   },
   "file_extension": ".py",
   "mimetype": "text/x-python",
   "name": "python",
   "nbconvert_exporter": "python",
   "pygments_lexer": "ipython3",
   "version": "3.11.9"
  }
 },
 "nbformat": 4,
 "nbformat_minor": 2
}
