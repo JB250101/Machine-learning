{
 "cells": [
  {
   "cell_type": "markdown",
   "metadata": {},
   "source": [
    "#Write a python dictionary and print a dictionary that contains a number (between 1 and n) in the for (x,x*x)."
   ]
  },
  {
   "cell_type": "code",
   "execution_count": 2,
   "metadata": {},
   "outputs": [
    {
     "data": {
      "text/plain": [
       "{1: 1, 2: 4, 3: 9, 4: 16, 5: 25}"
      ]
     },
     "execution_count": 2,
     "metadata": {},
     "output_type": "execute_result"
    }
   ],
   "source": [
    "out_d = {}\n",
    "n=6\n",
    "for i in range(1,n):\n",
    "    i_squa =  i*i \n",
    "    out_d[i]= i_squa\n",
    "out_d\n"
   ]
  },
  {
   "cell_type": "code",
   "execution_count": 3,
   "metadata": {},
   "outputs": [
    {
     "name": "stdout",
     "output_type": "stream",
     "text": [
      "1\n",
      "4\n",
      "9\n",
      "16\n",
      "25\n"
     ]
    }
   ],
   "source": [
    "# print the value for each key\n",
    "for key in out_d.keys():\n",
    "    print(out_d[key])"
   ]
  },
  {
   "cell_type": "code",
   "execution_count": 4,
   "metadata": {},
   "outputs": [
    {
     "name": "stdout",
     "output_type": "stream",
     "text": [
      "720\n"
     ]
    }
   ],
   "source": [
    "# calculate factorial of n\n",
    "\n",
    "factorial = 1\n",
    "for i in range(1, n + 1):\n",
    "    factorial=factorial*i\n",
    "print(factorial)"
   ]
  },
  {
   "cell_type": "code",
   "execution_count": 5,
   "metadata": {},
   "outputs": [
    {
     "name": "stdout",
     "output_type": "stream",
     "text": [
      "6\n"
     ]
    }
   ],
   "source": [
    "#python code that reverse the an integer \n",
    "i_n=5376\n",
    "o_n = i_n%10\n",
    "i_n = i_n//10\n",
    "\n",
    "print(o_n)"
   ]
  },
  {
   "cell_type": "code",
   "execution_count": 7,
   "metadata": {},
   "outputs": [
    {
     "name": "stdout",
     "output_type": "stream",
     "text": [
      "Your wish is my command! Your 1234 looks like 4321 Backwards!\n"
     ]
    }
   ],
   "source": [
    "num = int(input(\"So you like things backwards eh? Well, enter a number and I'll do my best: \"))\n",
    "Onum = str(num)\n",
    "revStr = \"\"\n",
    "for x in Onum:\n",
    "  revStr = x + revStr\n",
    "\n",
    "print(\"Your wish is my command! Your\" , num, \"looks like\", revStr, \"Backwards!\")"
   ]
  },
  {
   "cell_type": "code",
   "execution_count": 34,
   "metadata": {},
   "outputs": [
    {
     "name": "stdout",
     "output_type": "stream",
     "text": [
      "gambare gambare curse king of time 0 \n",
      "gambare gambare curse king of time False \n",
      "gambare gambare curse king of time False \n"
     ]
    }
   ],
   "source": [
    "def suk(energy: str, age: bool) :\n",
    "    print(\"gambare gambare %s of time %d \" %(energy, age) )\n",
    "    print(f\"gambare gambare {energy} of time {age} \" )\n",
    "    print(\"gambare gambare {} of time {} \".format(energy, age) )\n",
    "    \n",
    "suk(\"curse king\", False)"
   ]
  },
  {
   "cell_type": "code",
   "execution_count": 48,
   "metadata": {},
   "outputs": [
    {
     "data": {
      "text/plain": [
       "8"
      ]
     },
     "execution_count": 48,
     "metadata": {},
     "output_type": "execute_result"
    }
   ],
   "source": [
    "def add(a,b):\n",
    "    c = a+b\n",
    "    d = a-b\n",
    "    return c,d\n",
    "# sum_,sub= add(5,3)\n",
    "# print(sum_)\n",
    "# sub\n",
    "add(5,3)"
   ]
  },
  {
   "cell_type": "code",
   "execution_count": null,
   "metadata": {},
   "outputs": [],
   "source": []
  }
 ],
 "metadata": {
  "kernelspec": {
   "display_name": "Python 3",
   "language": "python",
   "name": "python3"
  },
  "language_info": {
   "codemirror_mode": {
    "name": "ipython",
    "version": 3
   },
   "file_extension": ".py",
   "mimetype": "text/x-python",
   "name": "python",
   "nbconvert_exporter": "python",
   "pygments_lexer": "ipython3",
   "version": "3.11.9"
  }
 },
 "nbformat": 4,
 "nbformat_minor": 2
}
